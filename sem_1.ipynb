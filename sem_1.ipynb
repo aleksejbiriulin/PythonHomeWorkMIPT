{
 "cells": [
  {
   "cell_type": "markdown",
   "id": "77bfebfd",
   "metadata": {},
   "source": [
    "# Практическое занятие 1"
   ]
  },
  {
   "cell_type": "markdown",
   "id": "431b901b",
   "metadata": {},
   "source": [
    "Python - это один из наиболее популярных языков программирования используемых для решения задач анализа данных, машинного обучения, веб-разработки и других задач. Это высокоуровневый объектно-ориентированный язык программирования с динамической типизацией и автоматическим управлением памятью.\n",
    "\n"
   ]
  },
  {
   "cell_type": "markdown",
   "id": "514f56a7",
   "metadata": {},
   "source": [
    "## Типы данных\n",
    "\n",
    "В питоне все переменные являются объектами, которые имеют определённый тип. Типы данных бывают изменяемые и неизменяемые (англ. mutable и immutable). К неизменяемым относятся целые числа (int), числа с плавающей запятой (float), булевы значения (bool), строки (str), кортежи (tuple). К изменяемым — списки (list), множества (set), байтовые массивы (byte arrays) и словари (dict).\n",
    "\n",
    "Для того чтобы определить изменяемый или неизменяемый объект пригодятся функции type() и id().\n",
    "Функция type() выводит тип объекта, а функция id() - уникальный идентификатор объекта в виде целого числа. "
   ]
  },
  {
   "cell_type": "code",
   "execution_count": 1,
   "id": "38e5644f",
   "metadata": {},
   "outputs": [
    {
     "data": {
      "text/plain": [
       "int"
      ]
     },
     "execution_count": 1,
     "metadata": {},
     "output_type": "execute_result"
    }
   ],
   "source": [
    "a = 1\n",
    "type(a)"
   ]
  },
  {
   "cell_type": "code",
   "execution_count": 2,
   "id": "40bbc218",
   "metadata": {},
   "outputs": [
    {
     "data": {
      "text/plain": [
       "str"
      ]
     },
     "execution_count": 2,
     "metadata": {},
     "output_type": "execute_result"
    }
   ],
   "source": [
    "a = '123'\n",
    "type(a)"
   ]
  },
  {
   "cell_type": "code",
   "execution_count": 3,
   "id": "10fba91c",
   "metadata": {},
   "outputs": [
    {
     "data": {
      "text/plain": [
       "list"
      ]
     },
     "execution_count": 3,
     "metadata": {},
     "output_type": "execute_result"
    }
   ],
   "source": [
    "a = [1, 2, 3, 4, 5]\n",
    "type(a)"
   ]
  },
  {
   "cell_type": "code",
   "execution_count": 4,
   "id": "c0458502",
   "metadata": {},
   "outputs": [
    {
     "data": {
      "text/plain": [
       "tuple"
      ]
     },
     "execution_count": 4,
     "metadata": {},
     "output_type": "execute_result"
    }
   ],
   "source": [
    "a = (1, 2, 3, 4, 5)\n",
    "type(a)"
   ]
  },
  {
   "cell_type": "code",
   "execution_count": 5,
   "id": "9300d45b",
   "metadata": {},
   "outputs": [
    {
     "data": {
      "text/plain": [
       "set"
      ]
     },
     "execution_count": 5,
     "metadata": {},
     "output_type": "execute_result"
    }
   ],
   "source": [
    "a = set([1, 2, 3, 4, 5])\n",
    "type(a)"
   ]
  },
  {
   "cell_type": "markdown",
   "id": "d702a136",
   "metadata": {},
   "source": [
    "Попробуем изменить строку:"
   ]
  },
  {
   "cell_type": "code",
   "execution_count": 6,
   "id": "a440bb99",
   "metadata": {},
   "outputs": [
    {
     "ename": "TypeError",
     "evalue": "'str' object does not support item assignment",
     "output_type": "error",
     "traceback": [
      "\u001b[1;31m---------------------------------------------------------------------------\u001b[0m",
      "\u001b[1;31mTypeError\u001b[0m                                 Traceback (most recent call last)",
      "\u001b[1;32m~\\AppData\\Local\\Temp\\ipykernel_15132\\139094131.py\u001b[0m in \u001b[0;36m<module>\u001b[1;34m\u001b[0m\n\u001b[0;32m      1\u001b[0m \u001b[0ma\u001b[0m \u001b[1;33m=\u001b[0m \u001b[1;34m'abcd'\u001b[0m\u001b[1;33m\u001b[0m\u001b[1;33m\u001b[0m\u001b[0m\n\u001b[1;32m----> 2\u001b[1;33m \u001b[0ma\u001b[0m\u001b[1;33m[\u001b[0m\u001b[1;36m0\u001b[0m\u001b[1;33m]\u001b[0m \u001b[1;33m=\u001b[0m \u001b[1;34m'f'\u001b[0m\u001b[1;33m\u001b[0m\u001b[1;33m\u001b[0m\u001b[0m\n\u001b[0m",
      "\u001b[1;31mTypeError\u001b[0m: 'str' object does not support item assignment"
     ]
    }
   ],
   "source": [
    "a = 'abcd'\n",
    "a[0] = 'f'"
   ]
  },
  {
   "cell_type": "code",
   "execution_count": null,
   "id": "88b2d663",
   "metadata": {},
   "outputs": [],
   "source": []
  },
  {
   "cell_type": "markdown",
   "id": "714f6933",
   "metadata": {},
   "source": [
    "## Числа\n",
    "\n",
    "В Python 3 есть целые, вещественные и комплексные числа. Мы остановимся на рассмотрении действительных чисел, т. е. целых и чисел с плавающей запятой.\n",
    "\n",
    "К чилсам применимы следующие операции:\n",
    "\n",
    "**x + y**\t- сложение\n",
    "\n",
    "**x - y**\t- вычитание\n",
    "\n",
    "**x * y**\t- умножение\n",
    "\n",
    "**x / y**\t- деление\n",
    "\n",
    "**x // y**\t- получение целой части от деления\n",
    "\n",
    "**x % y**\t- остаток от деления\n",
    "\n",
    "**-x**\t- смена знака числа\n",
    "\n",
    "**abs(x)**\t- модуль числа\n",
    "\n",
    "**divmod(x, y)**\t- пара (x // y, x % y)\n",
    "\n",
    "**x ** y**\t- возведение в степень"
   ]
  },
  {
   "cell_type": "code",
   "execution_count": 7,
   "id": "23f3a139",
   "metadata": {},
   "outputs": [
    {
     "data": {
      "text/plain": [
       "3"
      ]
     },
     "execution_count": 7,
     "metadata": {},
     "output_type": "execute_result"
    }
   ],
   "source": [
    "10 // 3"
   ]
  },
  {
   "cell_type": "code",
   "execution_count": 8,
   "id": "82c4ffd9",
   "metadata": {},
   "outputs": [
    {
     "data": {
      "text/plain": [
       "1"
      ]
     },
     "execution_count": 8,
     "metadata": {},
     "output_type": "execute_result"
    }
   ],
   "source": [
    "10 % 3"
   ]
  },
  {
   "cell_type": "code",
   "execution_count": 9,
   "id": "d5d0bc82",
   "metadata": {},
   "outputs": [
    {
     "data": {
      "text/plain": [
       "4"
      ]
     },
     "execution_count": 9,
     "metadata": {},
     "output_type": "execute_result"
    }
   ],
   "source": [
    "2**2"
   ]
  },
  {
   "cell_type": "markdown",
   "id": "987b12a5",
   "metadata": {},
   "source": [
    "## Списки\n",
    "\n",
    "Списки в Python - упорядоченные изменяемые коллекции объектов произвольных типов.\n",
    "\n",
    "Создать список можно несколькими способами:"
   ]
  },
  {
   "cell_type": "code",
   "execution_count": 10,
   "id": "e9668168",
   "metadata": {},
   "outputs": [
    {
     "data": {
      "text/plain": [
       "['p', 'y', 't', 'h', 'o', 'n']"
      ]
     },
     "execution_count": 10,
     "metadata": {},
     "output_type": "execute_result"
    }
   ],
   "source": [
    "list('python')"
   ]
  },
  {
   "cell_type": "code",
   "execution_count": 11,
   "id": "c05168d2",
   "metadata": {},
   "outputs": [],
   "source": [
    "s = []"
   ]
  },
  {
   "cell_type": "code",
   "execution_count": 12,
   "id": "edad5009",
   "metadata": {},
   "outputs": [],
   "source": [
    "l = ['1', '2', ['abc'], 2]"
   ]
  },
  {
   "cell_type": "code",
   "execution_count": 13,
   "id": "3df93400",
   "metadata": {},
   "outputs": [],
   "source": [
    "l = [c * 3 for c in 'list'] # генератор списков или list comprehension"
   ]
  },
  {
   "cell_type": "code",
   "execution_count": 14,
   "id": "3b86af5b",
   "metadata": {},
   "outputs": [
    {
     "name": "stdout",
     "output_type": "stream",
     "text": [
      "['apple', 'banana', 'mango']\n"
     ]
    }
   ],
   "source": [
    "fruits = [\"apple\", \"banana\", \"cherry\", \"kiwi\", \"mango\"]\n",
    "\n",
    "newlist = [x for x in fruits if \"a\" in x]\n",
    "\n",
    "print(newlist)"
   ]
  },
  {
   "cell_type": "markdown",
   "id": "0a6ffdce",
   "metadata": {},
   "source": [
    "Python поддерживает отрицательное индексирование и в списках можно использовать срезы для извлечения значений.\n",
    "\n",
    "`item[START:STOP:STEP]` - берёт срез от номера START, до STOP (не включая его), с шагом STEP. По умолчанию START = 0, STOP = длине объекта, STEP = 1. "
   ]
  },
  {
   "cell_type": "code",
   "execution_count": 60,
   "id": "45a2683b",
   "metadata": {},
   "outputs": [
    {
     "name": "stdout",
     "output_type": "stream",
     "text": [
      "[1, 3, 8, 7]\n",
      "[3, 8, 7]\n",
      "[1, 3, 8]\n",
      "[1, 8]\n"
     ]
    }
   ],
   "source": [
    "a = [1, 3, 8, 7]\n",
    "print(a[:])\n",
    "print(a[1:])\n",
    "print(a[:3])\n",
    "print(a[::2])"
   ]
  },
  {
   "cell_type": "markdown",
   "id": "9c5a2a3d",
   "metadata": {},
   "source": [
    "Основные методы списков:\n",
    "    \n",
    "**list.append(x)** - добавляет элемент в конец списка\n",
    "\n",
    "**list.extend(L)** - расширяет список list, добавляя в конец все элементы списка L\n",
    "\n",
    "**list.insert(i, x)** - вставляет на i-ый элемент значение x\n",
    "\n",
    "**list.remove(x)** - удаляет первый элемент в списке, имеющий значение x. ValueError, если такого элемента не существует\n",
    "\n",
    "**list.pop([i])** - удаляет i-ый элемент и возвращает его. Если индекс не указан, удаляется последний элемент\n",
    "\n",
    "**list.index(x, [start [, end]])** - Возвращает положение первого элемента со значением x (при этом поиск ведется от start до end)\n",
    "\n",
    "**list.count(x)** - возвращает количество элементов со значением x\n",
    "\n",
    "**list.sort([key=функция])** - сортирует список на основе функции\n",
    "\n",
    "**list.reverse()** - разворачивает список\n",
    "\n",
    "**list.copy()** - поверхностная копия списка\n",
    "\n",
    "**list.clear()** - очищает список\n",
    "\n",
    "В отличие от строковых методов методы списков изменяют сам список, поэтому результат выполнения не нужно перезаписывать."
   ]
  },
  {
   "cell_type": "markdown",
   "id": "5fa88bb3",
   "metadata": {},
   "source": [
    "Отсортируем список:"
   ]
  },
  {
   "cell_type": "code",
   "execution_count": 15,
   "id": "dee613a7",
   "metadata": {},
   "outputs": [
    {
     "name": "stdout",
     "output_type": "stream",
     "text": [
      "[1, 2, 3, 5, 7]\n"
     ]
    }
   ],
   "source": [
    "l = [1, 2, 3, 5, 7]\n",
    "l.sort()\n",
    "print(l)"
   ]
  },
  {
   "cell_type": "code",
   "execution_count": 16,
   "id": "34cf74ed",
   "metadata": {},
   "outputs": [
    {
     "name": "stdout",
     "output_type": "stream",
     "text": [
      "3 1 0\n"
     ]
    }
   ],
   "source": [
    "a = [1, 3.5, 12, 10, 1024, 1, 1, 2]\n",
    "print(a.count(1), a.count(10), a.count('a'))"
   ]
  },
  {
   "cell_type": "markdown",
   "id": "2db97df3",
   "metadata": {},
   "source": [
    "Добавим элемент -1 на позицию (по индексу) 2."
   ]
  },
  {
   "cell_type": "code",
   "execution_count": 17,
   "id": "72c69a5c",
   "metadata": {},
   "outputs": [
    {
     "name": "stdout",
     "output_type": "stream",
     "text": [
      "[1, 3.5, -1, 12, 10, 1024, 1, 1, 2]\n"
     ]
    }
   ],
   "source": [
    "a.insert(2, -1)\n",
    "print(a)"
   ]
  },
  {
   "cell_type": "markdown",
   "id": "f934ba25",
   "metadata": {},
   "source": [
    "В конец списка добавить элемент можно с помощью метода `.append()`:"
   ]
  },
  {
   "cell_type": "code",
   "execution_count": 18,
   "id": "cfc8182b",
   "metadata": {},
   "outputs": [
    {
     "name": "stdout",
     "output_type": "stream",
     "text": [
      "[1, 3.5, -1, 12, 10, 1024, 1, 1, 2]\n",
      "[1, 3.5, -1, 12, 10, 1024, 1, 1, 2, 5]\n"
     ]
    }
   ],
   "source": [
    "print(a)\n",
    "a.append(5)\n",
    "print(a)"
   ]
  },
  {
   "cell_type": "markdown",
   "id": "71ed9c60",
   "metadata": {},
   "source": [
    "Определить индекс заданного элемента списка можно с помощью:"
   ]
  },
  {
   "cell_type": "code",
   "execution_count": 19,
   "id": "f6db2507",
   "metadata": {},
   "outputs": [
    {
     "data": {
      "text/plain": [
       "9"
      ]
     },
     "execution_count": 19,
     "metadata": {},
     "output_type": "execute_result"
    }
   ],
   "source": [
    "a.index(5)"
   ]
  },
  {
   "cell_type": "markdown",
   "id": "2e5ee5fe",
   "metadata": {},
   "source": [
    "Теперь удалим из списка элемент 1:"
   ]
  },
  {
   "cell_type": "code",
   "execution_count": 20,
   "id": "a2abf896",
   "metadata": {},
   "outputs": [
    {
     "name": "stdout",
     "output_type": "stream",
     "text": [
      "[3.5, -1, 12, 10, 1024, 1, 1, 2, 5]\n"
     ]
    }
   ],
   "source": [
    "a.remove(1) # за один запуск удаляется один элемент 1 (если таких элементов несколько в списке)\n",
    "print(a)"
   ]
  },
  {
   "cell_type": "markdown",
   "id": "ee920c9c",
   "metadata": {},
   "source": [
    "Обращение элементов списка:"
   ]
  },
  {
   "cell_type": "code",
   "execution_count": 21,
   "id": "6d135bbe",
   "metadata": {},
   "outputs": [
    {
     "name": "stdout",
     "output_type": "stream",
     "text": [
      "[3.5, -1, 12, 10, 1024, 1, 1, 2, 5]\n",
      "[5, 2, 1, 1, 1024, 10, 12, -1, 3.5]\n"
     ]
    }
   ],
   "source": [
    "print(a)\n",
    "a.reverse()\n",
    "print(a)"
   ]
  },
  {
   "cell_type": "markdown",
   "id": "a6b6ae32",
   "metadata": {},
   "source": [
    "## Множества\n",
    "\n",
    "Множество (set) — это изменяемый набор уникальных и неупорядоченных элементов. \n",
    "\n",
    "Множества в питоне эквивалентны множествам с математике, опэтому к ним применимы те же операции, что и для математических множеств, т. е. к множествам можно применять операции объединение, пересечение и разность. \n",
    "\n",
    "Элементами множества может быть любой неизменяемый тип данных: числа, строки, кортежи. Изменяемые типы данных не могут быть элементами множества, в частности, нельзя сделать элементом множества список (но можно сделать кортеж) или другое множество. "
   ]
  },
  {
   "cell_type": "markdown",
   "id": "eda5adfc",
   "metadata": {},
   "source": [
    "Создать множество можно следующим образом:"
   ]
  },
  {
   "cell_type": "code",
   "execution_count": 22,
   "id": "4cd37002",
   "metadata": {},
   "outputs": [
    {
     "data": {
      "text/plain": [
       "set()"
      ]
     },
     "execution_count": 22,
     "metadata": {},
     "output_type": "execute_result"
    }
   ],
   "source": [
    "a = set()\n",
    "a"
   ]
  },
  {
   "cell_type": "code",
   "execution_count": 23,
   "id": "6e4631c2",
   "metadata": {},
   "outputs": [
    {
     "data": {
      "text/plain": [
       "{'h', 'n', 'o', 'p', 't', 'y'}"
      ]
     },
     "execution_count": 23,
     "metadata": {},
     "output_type": "execute_result"
    }
   ],
   "source": [
    "a = set('python')\n",
    "a"
   ]
  },
  {
   "cell_type": "code",
   "execution_count": 24,
   "id": "5d3ac980",
   "metadata": {},
   "outputs": [
    {
     "data": {
      "text/plain": [
       "{'a', 'b', 'c', 'd'}"
      ]
     },
     "execution_count": 24,
     "metadata": {},
     "output_type": "execute_result"
    }
   ],
   "source": [
    "a = {'a', 'b', 'c', 'd'}\n",
    "a"
   ]
  },
  {
   "cell_type": "code",
   "execution_count": 25,
   "id": "7cc6733d",
   "metadata": {},
   "outputs": [
    {
     "data": {
      "text/plain": [
       "{0, 1, 4, 9, 16, 25, 36, 49, 64, 81}"
      ]
     },
     "execution_count": 25,
     "metadata": {},
     "output_type": "execute_result"
    }
   ],
   "source": [
    "a = {i ** 2 for i in range(10)} # генератор множеств\n",
    "a"
   ]
  },
  {
   "cell_type": "markdown",
   "id": "f8e2ce63",
   "metadata": {},
   "source": [
    "Но вот так создать множество нельзя, получится словарь:"
   ]
  },
  {
   "cell_type": "code",
   "execution_count": 26,
   "id": "87afc75d",
   "metadata": {},
   "outputs": [
    {
     "data": {
      "text/plain": [
       "dict"
      ]
     },
     "execution_count": 26,
     "metadata": {},
     "output_type": "execute_result"
    }
   ],
   "source": [
    "a = {}  \n",
    "type(a)"
   ]
  },
  {
   "cell_type": "markdown",
   "id": "321341ee",
   "metadata": {},
   "source": [
    "Преобразование к множеству списка можно использовать для удаления дубликатов в списке."
   ]
  },
  {
   "cell_type": "code",
   "execution_count": 27,
   "id": "852c200a",
   "metadata": {},
   "outputs": [
    {
     "data": {
      "text/plain": [
       "{'hello', 'mipt', 'python'}"
      ]
     },
     "execution_count": 27,
     "metadata": {},
     "output_type": "execute_result"
    }
   ],
   "source": [
    "words = ['hello', 'python', 'hello', 'mipt']\n",
    "set(words)"
   ]
  },
  {
   "cell_type": "markdown",
   "id": "677f6acb",
   "metadata": {},
   "source": [
    "С множествами можно выполнять следующие действия:\n",
    "\n",
    "**len(s)** - число элементов в множестве (размер множества).\n",
    "\n",
    "**x in s** - принадлежит ли x множеству s.\n",
    "\n",
    "**set.isdisjoint(other)** - истина, если set и other не имеют общих элементов.\n",
    "\n",
    "**set == other** - все элементы set принадлежат other, все элементы other принадлежат set.\n",
    "\n",
    "**set.issubset(other) или set <= other** - все элементы set принадлежат other.\n",
    "\n",
    "**set.issuperset(other) или set >= other** - аналогично.\n",
    "\n",
    "**set.union(other, ...) или set | other | ...** - объединение нескольких множеств.\n",
    "\n",
    "**set.intersection(other, ...) или set & other & ...** - пересечение.\n",
    "\n",
    "**set.difference(other, ...) или set - other - ...** - множество из всех элементов set, не принадлежащие ни одному из other.\n",
    "\n",
    "**set.symmetric_difference(other); set ^ other** - множество из элементов, встречающихся в одном множестве, но не встречающиеся в обоих.\n",
    "\n",
    "**set.copy()** - копирование множества.\n",
    "\n",
    "**set.update(other, ...); set |= other | ...** - объединение.\n",
    "\n",
    "**set.intersection_update(other, ...); set &= other & ...** - пересечение.\n",
    "\n",
    "**set.difference_update(other, ...); set -= other | ...** - вычитание.\n",
    "\n",
    "**set.symmetric_difference_update(other); set ^= other** - множество из элементов, встречающихся в одном множестве, но не встречающиеся в обоих.\n",
    "\n",
    "**set.add(elem)** - добавляет элемент в множество.\n",
    "\n",
    "**set.remove(elem)** - удаляет элемент из множества. Возникает KeyError, если такого элемента не существует.\n",
    "\n",
    "**set.discard(elem)** - удаляет элемент, если он находится в множестве.\n",
    "\n",
    "**set.pop()** - удаляет первый элемент из множества. Так как множества не упорядочены, нельзя точно сказать, какой элемент будет первым.\n",
    "\n",
    "**set.clear()** - очистка множества."
   ]
  },
  {
   "cell_type": "code",
   "execution_count": 28,
   "id": "733a951e",
   "metadata": {},
   "outputs": [
    {
     "name": "stdout",
     "output_type": "stream",
     "text": [
      "{1, 2, 3, 4}\n"
     ]
    }
   ],
   "source": [
    "a = {1, 2, 3}\n",
    "a.add(4)\n",
    "print(a)"
   ]
  },
  {
   "cell_type": "markdown",
   "id": "1f53ac5e",
   "metadata": {},
   "source": [
    "Для удаления элементов из множества можно использовать `discard` и `remove`, их поведение различается тогда, когда удаляемый элемент отсутствует в множестве: `discard` не делает ничего, а метод `remove` генерирует исключение `KeyError`, которое вы увидите в одной из ячеек ниже."
   ]
  },
  {
   "cell_type": "code",
   "execution_count": 29,
   "id": "5a50ae01",
   "metadata": {},
   "outputs": [
    {
     "name": "stdout",
     "output_type": "stream",
     "text": [
      "{2, 3, 4}\n"
     ]
    }
   ],
   "source": [
    "a.remove(1)\n",
    "print(a)"
   ]
  },
  {
   "cell_type": "code",
   "execution_count": 30,
   "id": "a7582893",
   "metadata": {},
   "outputs": [
    {
     "ename": "KeyError",
     "evalue": "0",
     "output_type": "error",
     "traceback": [
      "\u001b[1;31m---------------------------------------------------------------------------\u001b[0m",
      "\u001b[1;31mKeyError\u001b[0m                                  Traceback (most recent call last)",
      "\u001b[1;32m~\\AppData\\Local\\Temp\\ipykernel_15132\\3813938388.py\u001b[0m in \u001b[0;36m<module>\u001b[1;34m\u001b[0m\n\u001b[1;32m----> 1\u001b[1;33m \u001b[0ma\u001b[0m\u001b[1;33m.\u001b[0m\u001b[0mremove\u001b[0m\u001b[1;33m(\u001b[0m\u001b[1;36m0\u001b[0m\u001b[1;33m)\u001b[0m\u001b[1;33m\u001b[0m\u001b[1;33m\u001b[0m\u001b[0m\n\u001b[0m\u001b[0;32m      2\u001b[0m \u001b[0mprint\u001b[0m\u001b[1;33m(\u001b[0m\u001b[0ma\u001b[0m\u001b[1;33m)\u001b[0m\u001b[1;33m\u001b[0m\u001b[1;33m\u001b[0m\u001b[0m\n",
      "\u001b[1;31mKeyError\u001b[0m: 0"
     ]
    }
   ],
   "source": [
    "a.remove(0)\n",
    "print(a)"
   ]
  },
  {
   "cell_type": "code",
   "execution_count": 31,
   "id": "4d725641",
   "metadata": {},
   "outputs": [
    {
     "name": "stdout",
     "output_type": "stream",
     "text": [
      "{3, 4}\n"
     ]
    }
   ],
   "source": [
    "a.discard(2)\n",
    "print(a)"
   ]
  },
  {
   "cell_type": "code",
   "execution_count": 32,
   "id": "c3a19d6e",
   "metadata": {},
   "outputs": [
    {
     "name": "stdout",
     "output_type": "stream",
     "text": [
      "{3, 4}\n"
     ]
    }
   ],
   "source": [
    "a.discard(0)\n",
    "print(a)"
   ]
  },
  {
   "cell_type": "markdown",
   "id": "66dec6bd",
   "metadata": {},
   "source": [
    "Операции над множествами можно записывать как коротко символами, так и названиями соответствующих функций:"
   ]
  },
  {
   "cell_type": "code",
   "execution_count": 33,
   "id": "254047c2",
   "metadata": {},
   "outputs": [
    {
     "name": "stdout",
     "output_type": "stream",
     "text": [
      "{1, 2, 3, 4, 5, 6}\n",
      "{1, 2, 3, 4, 5, 6}\n"
     ]
    }
   ],
   "source": [
    "a = {1, 2, 3, 4}\n",
    "b = {3, 4, 5, 6}\n",
    "print(a.union(b))\n",
    "print(a | b)"
   ]
  },
  {
   "cell_type": "code",
   "execution_count": 34,
   "id": "ce006e7f",
   "metadata": {},
   "outputs": [
    {
     "name": "stdout",
     "output_type": "stream",
     "text": [
      "{3, 4}\n",
      "{3, 4}\n"
     ]
    }
   ],
   "source": [
    "a = {1, 2, 3, 4}\n",
    "b = {3, 4, 5, 6}\n",
    "print(a.intersection(b))\n",
    "print(a & b)"
   ]
  },
  {
   "cell_type": "code",
   "execution_count": 35,
   "id": "eb39cde3",
   "metadata": {},
   "outputs": [
    {
     "name": "stdout",
     "output_type": "stream",
     "text": [
      "{1, 2}\n",
      "{1, 2}\n"
     ]
    }
   ],
   "source": [
    "a = {1, 2, 3, 4}\n",
    "b = {3, 4, 5, 6}\n",
    "print(a.difference(b))\n",
    "print(a - b)"
   ]
  },
  {
   "cell_type": "markdown",
   "id": "a4550fa3",
   "metadata": {},
   "source": [
    "Симметрическая разность двух множеств - множество, состоящее из элементов, входящих в одно и только одно из данных множеств:"
   ]
  },
  {
   "cell_type": "code",
   "execution_count": 36,
   "id": "f0c69c0c",
   "metadata": {},
   "outputs": [
    {
     "name": "stdout",
     "output_type": "stream",
     "text": [
      "{1, 2, 5, 6}\n",
      "{1, 2, 5, 6}\n"
     ]
    }
   ],
   "source": [
    "a = {1, 2, 3, 4}\n",
    "b = {3, 4, 5, 6}\n",
    "print(a.symmetric_difference(b))\n",
    "print(a ^ b)"
   ]
  },
  {
   "cell_type": "code",
   "execution_count": 37,
   "id": "38416862",
   "metadata": {},
   "outputs": [
    {
     "ename": "SyntaxError",
     "evalue": "invalid syntax (1096921135.py, line 1)",
     "output_type": "error",
     "traceback": [
      "\u001b[1;36m  File \u001b[1;32m\"C:\\Users\\medve\\AppData\\Local\\Temp\\ipykernel_15132\\1096921135.py\"\u001b[1;36m, line \u001b[1;32m1\u001b[0m\n\u001b[1;33m    Проверка того что множество является подмножестовм другого множества:\u001b[0m\n\u001b[1;37m             ^\u001b[0m\n\u001b[1;31mSyntaxError\u001b[0m\u001b[1;31m:\u001b[0m invalid syntax\n"
     ]
    }
   ],
   "source": [
    "Проверка того что множество является подмножестовм другого множества:"
   ]
  },
  {
   "cell_type": "code",
   "execution_count": 38,
   "id": "a51212d4",
   "metadata": {},
   "outputs": [
    {
     "name": "stdout",
     "output_type": "stream",
     "text": [
      "False\n",
      "False\n",
      "True\n",
      "True\n"
     ]
    }
   ],
   "source": [
    "a = {1, 2, 3, 4}\n",
    "b = {3, 4, 5, 6}\n",
    "print(a <= b)\n",
    "print(a.issubset(b))\n",
    "\n",
    "c = {3, 4}\n",
    "d = {3, 4, 5, 6}\n",
    "print(c <= d)\n",
    "print(c.issubset(d))"
   ]
  },
  {
   "cell_type": "markdown",
   "id": "b74a64a1",
   "metadata": {},
   "source": [
    "Перебрать все элементы множества (в неопределенном порядке!) можно при помощи цикла for:"
   ]
  },
  {
   "cell_type": "code",
   "execution_count": 39,
   "id": "44292ba3",
   "metadata": {},
   "outputs": [
    {
     "name": "stdout",
     "output_type": "stream",
     "text": [
      "2\n",
      "3\n",
      "5\n",
      "7\n",
      "11\n"
     ]
    }
   ],
   "source": [
    "numbers = {2, 3, 5, 7, 11}\n",
    "for num in numbers:\n",
    "    print(num)"
   ]
  },
  {
   "cell_type": "markdown",
   "id": "2f73d2af",
   "metadata": {},
   "source": [
    "## Кортежи\n",
    "\n",
    "Кортеж можно представить как неизменяемый список. Неизменяемость необходима для того чтобы защитить данные от изменений. Преимуществом кортежей по сравнению со списками является меньший размер:"
   ]
  },
  {
   "cell_type": "code",
   "execution_count": 40,
   "id": "7a5b3527",
   "metadata": {},
   "outputs": [
    {
     "name": "stdout",
     "output_type": "stream",
     "text": [
      "72\n",
      "136\n"
     ]
    }
   ],
   "source": [
    "a = (1, 2, 3, 4, 5, 6)\n",
    "b = [1, 2, 3, 4, 5, 6]\n",
    "print(a.__sizeof__())\n",
    "print(b.__sizeof__())"
   ]
  },
  {
   "cell_type": "markdown",
   "id": "7d67507f",
   "metadata": {},
   "source": [
    "Неизменяемость кортежей позволяет использовать их в качестве ключей словаря."
   ]
  },
  {
   "cell_type": "markdown",
   "id": "1d1a0ba1",
   "metadata": {},
   "source": [
    "Создать кортеж можно следующим образом:"
   ]
  },
  {
   "cell_type": "code",
   "execution_count": 41,
   "id": "6c5d06e7",
   "metadata": {},
   "outputs": [],
   "source": [
    "a = tuple() # С помощью встроенной функции tuple()\n",
    "a = () # С помощью литерала кортежа"
   ]
  },
  {
   "cell_type": "code",
   "execution_count": 42,
   "id": "7ba45e05",
   "metadata": {},
   "outputs": [
    {
     "ename": "SyntaxError",
     "evalue": "invalid syntax (4113409652.py, line 1)",
     "output_type": "error",
     "traceback": [
      "\u001b[1;36m  File \u001b[1;32m\"C:\\Users\\medve\\AppData\\Local\\Temp\\ipykernel_15132\\4113409652.py\"\u001b[1;36m, line \u001b[1;32m1\u001b[0m\n\u001b[1;33m    Создаём кортеж из одного элемента, но .... получаем строку:\u001b[0m\n\u001b[1;37m            ^\u001b[0m\n\u001b[1;31mSyntaxError\u001b[0m\u001b[1;31m:\u001b[0m invalid syntax\n"
     ]
    }
   ],
   "source": [
    "Создаём кортеж из одного элемента, но .... получаем строку:"
   ]
  },
  {
   "cell_type": "code",
   "execution_count": 43,
   "id": "f376e184",
   "metadata": {},
   "outputs": [
    {
     "data": {
      "text/plain": [
       "'s'"
      ]
     },
     "execution_count": 43,
     "metadata": {},
     "output_type": "execute_result"
    }
   ],
   "source": [
    "a = ('s')\n",
    "a"
   ]
  },
  {
   "cell_type": "code",
   "execution_count": 44,
   "id": "cd5ceb69",
   "metadata": {},
   "outputs": [
    {
     "ename": "SyntaxError",
     "evalue": "invalid syntax (2537154394.py, line 1)",
     "output_type": "error",
     "traceback": [
      "\u001b[1;36m  File \u001b[1;32m\"C:\\Users\\medve\\AppData\\Local\\Temp\\ipykernel_15132\\2537154394.py\"\u001b[1;36m, line \u001b[1;32m1\u001b[0m\n\u001b[1;33m    Для того, чтобы создать кортеж из одного элемента нужно использовать:\u001b[0m\n\u001b[1;37m        ^\u001b[0m\n\u001b[1;31mSyntaxError\u001b[0m\u001b[1;31m:\u001b[0m invalid syntax\n"
     ]
    }
   ],
   "source": [
    "Для того, чтобы создать кортеж из одного элемента нужно использовать:"
   ]
  },
  {
   "cell_type": "code",
   "execution_count": 45,
   "id": "33ed399f",
   "metadata": {},
   "outputs": [
    {
     "data": {
      "text/plain": [
       "('s',)"
      ]
     },
     "execution_count": 45,
     "metadata": {},
     "output_type": "execute_result"
    }
   ],
   "source": [
    "a = ('s', )\n",
    "a"
   ]
  },
  {
   "cell_type": "markdown",
   "id": "6ac0b7d4",
   "metadata": {},
   "source": [
    "## Функции map, filter, reduce, zip\n",
    "\n",
    "Функция map() — это встроенная функция, которая позволяет обрабатывать и преобразовывать все элементы в итерируемом объекте без использования явного цикла for, методом, широко известным как сопоставление (mapping). Эта функция полезна когда нужно применить функцию преобразования к каждому элементу в коллекции или в массиве и преобразовать их в новый массив.\n",
    "\n",
    "`map(function, iterable[, iterable1, iterable2,..., iterableN])`\n",
    "\n",
    "Первый аргумент map() — это объект функция, что означает, что вам нужно передать функцию, не вызывая ее, т. е. без пары скобок."
   ]
  },
  {
   "cell_type": "code",
   "execution_count": 46,
   "id": "dc176096",
   "metadata": {},
   "outputs": [
    {
     "name": "stdout",
     "output_type": "stream",
     "text": [
      "[1, 4, 9, 16, 25]\n"
     ]
    }
   ],
   "source": [
    "numbers = [1, 2, 3, 4, 5]\n",
    "squared = []\n",
    "for num in numbers:\n",
    "    squared.append(num ** 2)\n",
    "    \n",
    "print(squared)"
   ]
  },
  {
   "cell_type": "code",
   "execution_count": 47,
   "id": "18d28b49",
   "metadata": {},
   "outputs": [
    {
     "name": "stdout",
     "output_type": "stream",
     "text": [
      "[1, 4, 9, 16, 25]\n"
     ]
    }
   ],
   "source": [
    "def square(num):\n",
    "    return num ** 2\n",
    "    \n",
    "numbers = [1, 2, 3, 4, 5]\n",
    "squared = map(square, numbers)\n",
    "print(list(squared))"
   ]
  },
  {
   "cell_type": "markdown",
   "id": "50d25d55",
   "metadata": {},
   "source": [
    "Так как функция map() возвращает объект с типом - <class 'filter'>, для получения самого результата необходимо преобразовать вывод."
   ]
  },
  {
   "cell_type": "markdown",
   "id": "292f1f15",
   "metadata": {},
   "source": [
    "Функция filter() в Python применяет другую функцию к заданному итерируемому объекту (список, строка, словарь и так далее), проверяя, нужно ли сохранить конкретный элемент или нет. Другими словами, эта функция отфильтровывает то, что не проходит и возвращает все остальное.\n",
    "\n",
    "Функция filter() принимает два параметра. Первый — имя созданной пользователем функции, а второй — итерируемый объект (список, строка, множество, кортеж и так далее)."
   ]
  },
  {
   "cell_type": "code",
   "execution_count": 48,
   "id": "0f9e82e8",
   "metadata": {},
   "outputs": [
    {
     "name": "stdout",
     "output_type": "stream",
     "text": [
      "Тип объекта out_filter:  <class 'filter'>\n",
      "Отфильтрованный список:  [2, 4, 8, 10]\n"
     ]
    }
   ],
   "source": [
    "numbers = [1, 2, 4, 5, 7, 8, 10, 11]\n",
    "\n",
    "# функция, которая проверяет числа\n",
    "def filter_odd_num(in_num):\n",
    "    if(in_num % 2) == 0:\n",
    "        return True\n",
    "    else:\n",
    "        return False\n",
    "\n",
    "# Применение filter() для удаления нечетных чисел\n",
    "out_filter = filter(filter_odd_num, numbers)\n",
    "\n",
    "print(\"Тип объекта out_filter: \", type(out_filter))\n",
    "print(\"Отфильтрованный список: \", list(out_filter))"
   ]
  },
  {
   "cell_type": "code",
   "execution_count": 49,
   "id": "116d5e32",
   "metadata": {},
   "outputs": [
    {
     "name": "stdout",
     "output_type": "stream",
     "text": [
      "Отфильтрованный список: ['CSharp', 'Java', 'Scala', 'JavaScript', 'PHP']\n"
     ]
    }
   ],
   "source": [
    "list1 = [\"Python\", \"CSharp\", \"Java\", \"Go\"]\n",
    "list2 = [\"Python\", \"Scala\", \"JavaScript\", \"Go\", \"PHP\"]\n",
    "\n",
    "def filter_duplicate(string_to_check):\n",
    "    if string_to_check in ll:\n",
    "        return False\n",
    "    else:\n",
    "        return True\n",
    "\n",
    "# Применение filter() для удаления повторяющихся строк\n",
    "ll = list2\n",
    "out_filter = list(filter(filter_duplicate, list1))\n",
    "ll = list1\n",
    "out_filter += list(filter(filter_duplicate, list2))\n",
    "\n",
    "print(\"Отфильтрованный список:\", out_filter)"
   ]
  },
  {
   "cell_type": "markdown",
   "id": "4a4a093a",
   "metadata": {},
   "source": [
    "Функция reduce() принимает в качестве аргументов функцию и список. Функция вызывается с помощью лямбда-функции и итерируемого объекта и возвращается новый уменьшенный результат. Так выполняется повторяющаяся операцию над парами итерируемых объектов. Функция reduce() входит в состав модуля functools."
   ]
  },
  {
   "cell_type": "code",
   "execution_count": 50,
   "id": "020ac6d0",
   "metadata": {},
   "outputs": [
    {
     "name": "stdout",
     "output_type": "stream",
     "text": [
      "16\n"
     ]
    }
   ],
   "source": [
    "from functools import reduce\n",
    "\n",
    "\n",
    "lst = [5, 1, 4, 1, 2, 3]\n",
    "summa = reduce((lambda x, y: x + y), lst)\n",
    "print(summa)"
   ]
  },
  {
   "cell_type": "code",
   "execution_count": 51,
   "id": "495ab388",
   "metadata": {},
   "outputs": [
    {
     "name": "stdout",
     "output_type": "stream",
     "text": [
      "514123\n"
     ]
    }
   ],
   "source": [
    "lst = ['5', '1', '4', '1', '2', '3']\n",
    "summa = reduce((lambda x, y: x + y), lst)\n",
    "print(summa)"
   ]
  },
  {
   "cell_type": "markdown",
   "id": "21e7435a",
   "metadata": {},
   "source": [
    "Функция zip() в Python создает итератор, который объединяет элементы из нескольких источников данных. Эта функция работает со списками, кортежами, множествами и словарями для создания списков или кортежей, включающих все эти данные."
   ]
  },
  {
   "cell_type": "code",
   "execution_count": 52,
   "id": "f0ba0101",
   "metadata": {},
   "outputs": [
    {
     "name": "stdout",
     "output_type": "stream",
     "text": [
      "[('c', 2), ('a1', 9), ('b', 18), ('d', 28)]\n",
      "[(2, 'c'), (9, 'a1'), (18, 'b'), (28, 'd')]\n"
     ]
    }
   ],
   "source": [
    "numbers = [2, 9, 18, 28, 2]\n",
    "str_1 = [\"c\", \"a1\", \"b\", \"d\"]\n",
    "\n",
    "zipped_values = zip(str_1, numbers)\n",
    "zipped_list = list(zipped_values)\n",
    "\n",
    "print(zipped_list)\n",
    "\n",
    "zipped_values = zip(numbers, str_1)\n",
    "zipped_list = list(zipped_values)\n",
    "\n",
    "print(zipped_list)"
   ]
  },
  {
   "cell_type": "markdown",
   "id": "f09bb43a",
   "metadata": {},
   "source": [
    "# Задания"
   ]
  },
  {
   "cell_type": "markdown",
   "id": "0045040c",
   "metadata": {},
   "source": [
    "1. Введите с клавиатуры строку, содержащую элементы списка. Элементы разделены пробелом. Поменяйте порядок элементов списка на обратный."
   ]
  },
  {
   "cell_type": "code",
   "execution_count": 57,
   "id": "a52e5aca",
   "metadata": {},
   "outputs": [
    {
     "name": "stdout",
     "output_type": "stream",
     "text": [
      "1 2 3\n"
     ]
    }
   ],
   "source": [
    "lst = input().split()"
   ]
  },
  {
   "cell_type": "markdown",
   "id": "d5307341",
   "metadata": {},
   "source": [
    "2. C помощью цикла создайте список чисел от 1 до 10, а также списки их квадратов и кубов. Выведите полученные списки на экран. Отфильтруйте те значения, которые делятся на 2 без остатка."
   ]
  },
  {
   "cell_type": "markdown",
   "id": "29b469a7",
   "metadata": {},
   "source": [
    "3. Напишите функцию, которая принимает два списка и возвращает новый список, в котором каждый элемент равен произведению элементов обоих списков. "
   ]
  },
  {
   "cell_type": "markdown",
   "id": "231bd1eb",
   "metadata": {},
   "source": [
    "4. На основании 3 исходных множеств (передаются в качестве аргументов функции diff()) требуется написать функцию, которая будет возвращать либо симметричную разность, либо просто разность (если дополнительный аргумент функции symmetric имеет значение False) приведенных объектов в порядке: 1-ое множество, 2-ое множество, 3-е множество."
   ]
  },
  {
   "cell_type": "markdown",
   "id": "c3947b4a",
   "metadata": {},
   "source": [
    "5. Напишите программу, которая удаляет из списка чисел нечетные числа."
   ]
  },
  {
   "cell_type": "code",
   "execution_count": null,
   "id": "4dd55eee",
   "metadata": {},
   "outputs": [],
   "source": []
  },
  {
   "cell_type": "markdown",
   "id": "157e1e37",
   "metadata": {},
   "source": [
    "6. Сгенерируйте числа от 1 до 10000 и найдите их сумму."
   ]
  },
  {
   "cell_type": "code",
   "execution_count": null,
   "id": "e02fda70",
   "metadata": {},
   "outputs": [],
   "source": []
  },
  {
   "cell_type": "markdown",
   "id": "0282597b",
   "metadata": {},
   "source": [
    "7. Перед вами имеется список numbers, состоящий из целых чисел. Ваша задача преобразовать каждый элемент списка numbers в строку и сохранить полученный результат в новый список strings. Для преобразования используйте функцию map. \n",
    "В качестве ответа выведите переменную strings."
   ]
  },
  {
   "cell_type": "code",
   "execution_count": null,
   "id": "97a47829",
   "metadata": {},
   "outputs": [],
   "source": []
  },
  {
   "cell_type": "markdown",
   "id": "257ece4a",
   "metadata": {},
   "source": [
    "8. Напишите функцию superset(), которая принимает 2 множества. Результат работы функции: вывод в консоль одного из сообщений в зависимости от ситуации:\n",
    "1 - «Супермножество не обнаружено»\n",
    "2 – «Объект {X} является чистым супермножеством»\n",
    "3 – «Множества равны»"
   ]
  },
  {
   "cell_type": "markdown",
   "id": "cfacdb8f",
   "metadata": {},
   "source": [
    "9*. Предоставлен список натуральных чисел. Требуется сформировать из них множество. Если какое-либо число повторяется, то преобразовать его в строку по образцу: например, если число 4 повторяется 3 раза, то в множестве будет следующая запись: само число 4, строка «44» (второе повторение, т.е. число дублируется в строке), строка «444» (третье повторение, т.е. строка множится на 3). Реализуйте вывод множества через функцию set_gen()."
   ]
  },
  {
   "cell_type": "markdown",
   "id": "786eb41a",
   "metadata": {},
   "source": [
    "10*. Создайте кортеж из 7-ми именованных кортежей учащихся ВУЗов. В именованном кортеже будут присутствовать следующие поля: имя студента, оценка за семестр, город проживания. Функция good_students() будет принимать этот кортеж, вычислять среднюю оценку по всем учащимся и выводить на печать следующее сообщение: “Ученики {список имен студентов через запятую} в этом семестре хорошо учатся!”. В список студентов, которые выводятся по результатам работы функции, попадут лишь те, у которых оценка за семестр равна или выше средней по всем учащимся."
   ]
  },
  {
   "cell_type": "code",
   "execution_count": null,
   "id": "849320a9",
   "metadata": {},
   "outputs": [],
   "source": []
  }
 ],
 "metadata": {
  "kernelspec": {
   "display_name": "Python 3 (ipykernel)",
   "language": "python",
   "name": "python3"
  },
  "language_info": {
   "codemirror_mode": {
    "name": "ipython",
    "version": 3
   },
   "file_extension": ".py",
   "mimetype": "text/x-python",
   "name": "python",
   "nbconvert_exporter": "python",
   "pygments_lexer": "ipython3",
   "version": "3.12.4"
  }
 },
 "nbformat": 4,
 "nbformat_minor": 5
}
