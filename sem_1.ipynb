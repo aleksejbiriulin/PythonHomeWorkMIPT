{
  "cells": [
    {
      "cell_type": "markdown",
      "id": "77bfebfd",
      "metadata": {
        "id": "77bfebfd"
      },
      "source": [
        "# Практическое занятие 1"
      ]
    },
    {
      "cell_type": "markdown",
      "id": "431b901b",
      "metadata": {
        "id": "431b901b"
      },
      "source": [
        "Python - это один из наиболее популярных языков программирования используемых для решения задач анализа данных, машинного обучения, веб-разработки и других задач. Это высокоуровневый объектно-ориентированный язык программирования с динамической типизацией и автоматическим управлением памятью.\n",
        "\n"
      ]
    },
    {
      "cell_type": "markdown",
      "id": "514f56a7",
      "metadata": {
        "id": "514f56a7"
      },
      "source": [
        "## Типы данных\n",
        "\n",
        "В питоне все переменные являются объектами, которые имеют определённый тип. Типы данных бывают изменяемые и неизменяемые (англ. mutable и immutable). К неизменяемым относятся целые числа (int), числа с плавающей запятой (float), булевы значения (bool), строки (str), кортежи (tuple). К изменяемым — списки (list), множества (set), байтовые массивы (byte arrays) и словари (dict).\n",
        "\n",
        "Для того чтобы определить изменяемый или неизменяемый объект пригодятся функции type() и id().\n",
        "Функция type() выводит тип объекта, а функция id() - уникальный идентификатор объекта в виде целого числа."
      ]
    },
    {
      "cell_type": "code",
      "execution_count": null,
      "id": "38e5644f",
      "metadata": {
        "id": "38e5644f",
        "outputId": "d167c91d-994f-4598-e076-1fd7cc39f17a"
      },
      "outputs": [
        {
          "data": {
            "text/plain": [
              "int"
            ]
          },
          "execution_count": 1,
          "metadata": {},
          "output_type": "execute_result"
        }
      ],
      "source": [
        "a = 1\n",
        "type(a)"
      ]
    },
    {
      "cell_type": "code",
      "execution_count": null,
      "id": "40bbc218",
      "metadata": {
        "id": "40bbc218",
        "outputId": "ebf753a3-bd73-4d9b-ec63-2dba2cd10ce2"
      },
      "outputs": [
        {
          "data": {
            "text/plain": [
              "str"
            ]
          },
          "execution_count": 2,
          "metadata": {},
          "output_type": "execute_result"
        }
      ],
      "source": [
        "a = '123'\n",
        "type(a)"
      ]
    },
    {
      "cell_type": "code",
      "execution_count": null,
      "id": "10fba91c",
      "metadata": {
        "id": "10fba91c",
        "outputId": "06adfad8-841a-4b4d-9632-8df86d9d59da"
      },
      "outputs": [
        {
          "data": {
            "text/plain": [
              "list"
            ]
          },
          "execution_count": 3,
          "metadata": {},
          "output_type": "execute_result"
        }
      ],
      "source": [
        "a = [1, 2, 3, 4, 5]\n",
        "type(a)"
      ]
    },
    {
      "cell_type": "code",
      "execution_count": null,
      "id": "c0458502",
      "metadata": {
        "id": "c0458502",
        "outputId": "62017481-66dc-4776-f35a-802128d94f24"
      },
      "outputs": [
        {
          "data": {
            "text/plain": [
              "tuple"
            ]
          },
          "execution_count": 4,
          "metadata": {},
          "output_type": "execute_result"
        }
      ],
      "source": [
        "a = (1, 2, 3, 4, 5)\n",
        "type(a)"
      ]
    },
    {
      "cell_type": "code",
      "execution_count": null,
      "id": "9300d45b",
      "metadata": {
        "id": "9300d45b",
        "outputId": "7edc909f-ebec-4445-ee44-a52826b44869"
      },
      "outputs": [
        {
          "data": {
            "text/plain": [
              "set"
            ]
          },
          "execution_count": 5,
          "metadata": {},
          "output_type": "execute_result"
        }
      ],
      "source": [
        "a = set([1, 2, 3, 4, 5])\n",
        "type(a)"
      ]
    },
    {
      "cell_type": "markdown",
      "id": "d702a136",
      "metadata": {
        "id": "d702a136"
      },
      "source": [
        "Попробуем изменить строку:"
      ]
    },
    {
      "cell_type": "code",
      "execution_count": null,
      "id": "a440bb99",
      "metadata": {
        "id": "a440bb99",
        "outputId": "5f37cfaa-f26e-4cba-ef77-2af9b364630e"
      },
      "outputs": [
        {
          "ename": "TypeError",
          "evalue": "'str' object does not support item assignment",
          "output_type": "error",
          "traceback": [
            "\u001b[1;31m---------------------------------------------------------------------------\u001b[0m",
            "\u001b[1;31mTypeError\u001b[0m                                 Traceback (most recent call last)",
            "\u001b[1;32m~\\AppData\\Local\\Temp\\ipykernel_15132\\139094131.py\u001b[0m in \u001b[0;36m<module>\u001b[1;34m\u001b[0m\n\u001b[0;32m      1\u001b[0m \u001b[0ma\u001b[0m \u001b[1;33m=\u001b[0m \u001b[1;34m'abcd'\u001b[0m\u001b[1;33m\u001b[0m\u001b[1;33m\u001b[0m\u001b[0m\n\u001b[1;32m----> 2\u001b[1;33m \u001b[0ma\u001b[0m\u001b[1;33m[\u001b[0m\u001b[1;36m0\u001b[0m\u001b[1;33m]\u001b[0m \u001b[1;33m=\u001b[0m \u001b[1;34m'f'\u001b[0m\u001b[1;33m\u001b[0m\u001b[1;33m\u001b[0m\u001b[0m\n\u001b[0m",
            "\u001b[1;31mTypeError\u001b[0m: 'str' object does not support item assignment"
          ]
        }
      ],
      "source": [
        "a = 'abcd'\n",
        "a[0] = 'f'"
      ]
    },
    {
      "cell_type": "code",
      "execution_count": null,
      "id": "88b2d663",
      "metadata": {
        "id": "88b2d663"
      },
      "outputs": [],
      "source": []
    },
    {
      "cell_type": "markdown",
      "id": "714f6933",
      "metadata": {
        "id": "714f6933"
      },
      "source": [
        "## Числа\n",
        "\n",
        "В Python 3 есть целые, вещественные и комплексные числа. Мы остановимся на рассмотрении действительных чисел, т. е. целых и чисел с плавающей запятой.\n",
        "\n",
        "К чилсам применимы следующие операции:\n",
        "\n",
        "**x + y**\t- сложение\n",
        "\n",
        "**x - y**\t- вычитание\n",
        "\n",
        "**x * y**\t- умножение\n",
        "\n",
        "**x / y**\t- деление\n",
        "\n",
        "**x // y**\t- получение целой части от деления\n",
        "\n",
        "**x % y**\t- остаток от деления\n",
        "\n",
        "**-x**\t- смена знака числа\n",
        "\n",
        "**abs(x)**\t- модуль числа\n",
        "\n",
        "**divmod(x, y)**\t- пара (x // y, x % y)\n",
        "\n",
        "**x ** y**\t- возведение в степень"
      ]
    },
    {
      "cell_type": "code",
      "execution_count": null,
      "id": "23f3a139",
      "metadata": {
        "id": "23f3a139",
        "outputId": "d291079c-aba6-493f-d199-a10d10f3bd7c"
      },
      "outputs": [
        {
          "data": {
            "text/plain": [
              "3"
            ]
          },
          "execution_count": 7,
          "metadata": {},
          "output_type": "execute_result"
        }
      ],
      "source": [
        "10 // 3"
      ]
    },
    {
      "cell_type": "code",
      "execution_count": null,
      "id": "82c4ffd9",
      "metadata": {
        "id": "82c4ffd9",
        "outputId": "c381a1dc-f100-44e3-dbd7-8de2046df5e8"
      },
      "outputs": [
        {
          "data": {
            "text/plain": [
              "1"
            ]
          },
          "execution_count": 8,
          "metadata": {},
          "output_type": "execute_result"
        }
      ],
      "source": [
        "10 % 3"
      ]
    },
    {
      "cell_type": "code",
      "execution_count": null,
      "id": "d5d0bc82",
      "metadata": {
        "id": "d5d0bc82",
        "outputId": "66651ff2-08e2-401b-a986-c66a37c22853"
      },
      "outputs": [
        {
          "data": {
            "text/plain": [
              "4"
            ]
          },
          "execution_count": 9,
          "metadata": {},
          "output_type": "execute_result"
        }
      ],
      "source": [
        "2**2"
      ]
    },
    {
      "cell_type": "markdown",
      "id": "987b12a5",
      "metadata": {
        "id": "987b12a5"
      },
      "source": [
        "## Списки\n",
        "\n",
        "Списки в Python - упорядоченные изменяемые коллекции объектов произвольных типов.\n",
        "\n",
        "Создать список можно несколькими способами:"
      ]
    },
    {
      "cell_type": "code",
      "execution_count": null,
      "id": "e9668168",
      "metadata": {
        "id": "e9668168",
        "outputId": "75efd993-f6e6-45a7-d022-560275646834"
      },
      "outputs": [
        {
          "data": {
            "text/plain": [
              "['p', 'y', 't', 'h', 'o', 'n']"
            ]
          },
          "execution_count": 10,
          "metadata": {},
          "output_type": "execute_result"
        }
      ],
      "source": [
        "list('python')"
      ]
    },
    {
      "cell_type": "code",
      "execution_count": null,
      "id": "c05168d2",
      "metadata": {
        "id": "c05168d2"
      },
      "outputs": [],
      "source": [
        "s = []"
      ]
    },
    {
      "cell_type": "code",
      "execution_count": null,
      "id": "edad5009",
      "metadata": {
        "id": "edad5009"
      },
      "outputs": [],
      "source": [
        "l = ['1', '2', ['abc'], 2]"
      ]
    },
    {
      "cell_type": "code",
      "execution_count": null,
      "id": "3df93400",
      "metadata": {
        "id": "3df93400"
      },
      "outputs": [],
      "source": [
        "l = [c * 3 for c in 'list'] # генератор списков или list comprehension"
      ]
    },
    {
      "cell_type": "code",
      "execution_count": null,
      "id": "3b86af5b",
      "metadata": {
        "id": "3b86af5b",
        "outputId": "fab1dd7c-7665-415f-cf69-ae7e3e257e18"
      },
      "outputs": [
        {
          "name": "stdout",
          "output_type": "stream",
          "text": [
            "['apple', 'banana', 'mango']\n"
          ]
        }
      ],
      "source": [
        "fruits = [\"apple\", \"banana\", \"cherry\", \"kiwi\", \"mango\"]\n",
        "\n",
        "newlist = [x for x in fruits if \"a\" in x]\n",
        "\n",
        "print(newlist)"
      ]
    },
    {
      "cell_type": "markdown",
      "id": "0a6ffdce",
      "metadata": {
        "id": "0a6ffdce"
      },
      "source": [
        "Python поддерживает отрицательное индексирование и в списках можно использовать срезы для извлечения значений.\n",
        "\n",
        "`item[START:STOP:STEP]` - берёт срез от номера START, до STOP (не включая его), с шагом STEP. По умолчанию START = 0, STOP = длине объекта, STEP = 1."
      ]
    },
    {
      "cell_type": "code",
      "execution_count": null,
      "id": "45a2683b",
      "metadata": {
        "id": "45a2683b",
        "outputId": "c4f65556-4d17-402b-fda6-5f9559259d7b"
      },
      "outputs": [
        {
          "name": "stdout",
          "output_type": "stream",
          "text": [
            "[1, 3, 8, 7]\n",
            "[3, 8, 7]\n",
            "[1, 3, 8]\n",
            "[1, 8]\n"
          ]
        }
      ],
      "source": [
        "a = [1, 3, 8, 7]\n",
        "print(a[:])\n",
        "print(a[1:])\n",
        "print(a[:3])\n",
        "print(a[::2])"
      ]
    },
    {
      "cell_type": "markdown",
      "id": "9c5a2a3d",
      "metadata": {
        "id": "9c5a2a3d"
      },
      "source": [
        "Основные методы списков:\n",
        "    \n",
        "**list.append(x)** - добавляет элемент в конец списка\n",
        "\n",
        "**list.extend(L)** - расширяет список list, добавляя в конец все элементы списка L\n",
        "\n",
        "**list.insert(i, x)** - вставляет на i-ый элемент значение x\n",
        "\n",
        "**list.remove(x)** - удаляет первый элемент в списке, имеющий значение x. ValueError, если такого элемента не существует\n",
        "\n",
        "**list.pop([i])** - удаляет i-ый элемент и возвращает его. Если индекс не указан, удаляется последний элемент\n",
        "\n",
        "**list.index(x, [start [, end]])** - Возвращает положение первого элемента со значением x (при этом поиск ведется от start до end)\n",
        "\n",
        "**list.count(x)** - возвращает количество элементов со значением x\n",
        "\n",
        "**list.sort([key=функция])** - сортирует список на основе функции\n",
        "\n",
        "**list.reverse()** - разворачивает список\n",
        "\n",
        "**list.copy()** - поверхностная копия списка\n",
        "\n",
        "**list.clear()** - очищает список\n",
        "\n",
        "В отличие от строковых методов методы списков изменяют сам список, поэтому результат выполнения не нужно перезаписывать."
      ]
    },
    {
      "cell_type": "markdown",
      "id": "5fa88bb3",
      "metadata": {
        "id": "5fa88bb3"
      },
      "source": [
        "Отсортируем список:"
      ]
    },
    {
      "cell_type": "code",
      "execution_count": null,
      "id": "dee613a7",
      "metadata": {
        "id": "dee613a7",
        "outputId": "b0bfd4ec-223f-4262-ae76-5ce17bf5346a"
      },
      "outputs": [
        {
          "name": "stdout",
          "output_type": "stream",
          "text": [
            "[1, 2, 3, 5, 7]\n"
          ]
        }
      ],
      "source": [
        "l = [1, 2, 3, 5, 7]\n",
        "l.sort()\n",
        "print(l)"
      ]
    },
    {
      "cell_type": "code",
      "execution_count": null,
      "id": "34cf74ed",
      "metadata": {
        "id": "34cf74ed",
        "outputId": "1a23109f-3046-4367-8baf-14e5351179cd"
      },
      "outputs": [
        {
          "name": "stdout",
          "output_type": "stream",
          "text": [
            "3 1 0\n"
          ]
        }
      ],
      "source": [
        "a = [1, 3.5, 12, 10, 1024, 1, 1, 2]\n",
        "print(a.count(1), a.count(10), a.count('a'))"
      ]
    },
    {
      "cell_type": "markdown",
      "id": "2db97df3",
      "metadata": {
        "id": "2db97df3"
      },
      "source": [
        "Добавим элемент -1 на позицию (по индексу) 2."
      ]
    },
    {
      "cell_type": "code",
      "execution_count": null,
      "id": "72c69a5c",
      "metadata": {
        "id": "72c69a5c",
        "outputId": "40342fb9-0845-4348-9f64-c5013311f98b"
      },
      "outputs": [
        {
          "name": "stdout",
          "output_type": "stream",
          "text": [
            "[1, 3.5, -1, 12, 10, 1024, 1, 1, 2]\n"
          ]
        }
      ],
      "source": [
        "a.insert(2, -1)\n",
        "print(a)"
      ]
    },
    {
      "cell_type": "markdown",
      "id": "f934ba25",
      "metadata": {
        "id": "f934ba25"
      },
      "source": [
        "В конец списка добавить элемент можно с помощью метода `.append()`:"
      ]
    },
    {
      "cell_type": "code",
      "execution_count": null,
      "id": "cfc8182b",
      "metadata": {
        "id": "cfc8182b",
        "outputId": "112b8e78-dcf0-4bfc-c069-810a13865497"
      },
      "outputs": [
        {
          "name": "stdout",
          "output_type": "stream",
          "text": [
            "[1, 3.5, -1, 12, 10, 1024, 1, 1, 2]\n",
            "[1, 3.5, -1, 12, 10, 1024, 1, 1, 2, 5]\n"
          ]
        }
      ],
      "source": [
        "print(a)\n",
        "a.append(5)\n",
        "print(a)"
      ]
    },
    {
      "cell_type": "markdown",
      "id": "71ed9c60",
      "metadata": {
        "id": "71ed9c60"
      },
      "source": [
        "Определить индекс заданного элемента списка можно с помощью:"
      ]
    },
    {
      "cell_type": "code",
      "execution_count": null,
      "id": "f6db2507",
      "metadata": {
        "id": "f6db2507",
        "outputId": "a2ef31f7-6ee9-4e99-9259-b4232cb799b0"
      },
      "outputs": [
        {
          "data": {
            "text/plain": [
              "9"
            ]
          },
          "execution_count": 19,
          "metadata": {},
          "output_type": "execute_result"
        }
      ],
      "source": [
        "a.index(5)"
      ]
    },
    {
      "cell_type": "markdown",
      "id": "2e5ee5fe",
      "metadata": {
        "id": "2e5ee5fe"
      },
      "source": [
        "Теперь удалим из списка элемент 1:"
      ]
    },
    {
      "cell_type": "code",
      "execution_count": null,
      "id": "a2abf896",
      "metadata": {
        "id": "a2abf896",
        "outputId": "df7a3c21-006f-4bae-a28c-85b4bc7009f2"
      },
      "outputs": [
        {
          "name": "stdout",
          "output_type": "stream",
          "text": [
            "[3.5, -1, 12, 10, 1024, 1, 1, 2, 5]\n"
          ]
        }
      ],
      "source": [
        "a.remove(1) # за один запуск удаляется один элемент 1 (если таких элементов несколько в списке)\n",
        "print(a)"
      ]
    },
    {
      "cell_type": "markdown",
      "id": "ee920c9c",
      "metadata": {
        "id": "ee920c9c"
      },
      "source": [
        "Обращение элементов списка:"
      ]
    },
    {
      "cell_type": "code",
      "execution_count": null,
      "id": "6d135bbe",
      "metadata": {
        "id": "6d135bbe",
        "outputId": "98b4b2b4-ac4a-4fd3-e8a9-657267bbd32b"
      },
      "outputs": [
        {
          "name": "stdout",
          "output_type": "stream",
          "text": [
            "[3.5, -1, 12, 10, 1024, 1, 1, 2, 5]\n",
            "[5, 2, 1, 1, 1024, 10, 12, -1, 3.5]\n"
          ]
        }
      ],
      "source": [
        "print(a)\n",
        "a.reverse()\n",
        "print(a)"
      ]
    },
    {
      "cell_type": "markdown",
      "id": "a6b6ae32",
      "metadata": {
        "id": "a6b6ae32"
      },
      "source": [
        "## Множества\n",
        "\n",
        "Множество (set) — это изменяемый набор уникальных и неупорядоченных элементов.\n",
        "\n",
        "Множества в питоне эквивалентны множествам с математике, опэтому к ним применимы те же операции, что и для математических множеств, т. е. к множествам можно применять операции объединение, пересечение и разность.\n",
        "\n",
        "Элементами множества может быть любой неизменяемый тип данных: числа, строки, кортежи. Изменяемые типы данных не могут быть элементами множества, в частности, нельзя сделать элементом множества список (но можно сделать кортеж) или другое множество."
      ]
    },
    {
      "cell_type": "markdown",
      "id": "eda5adfc",
      "metadata": {
        "id": "eda5adfc"
      },
      "source": [
        "Создать множество можно следующим образом:"
      ]
    },
    {
      "cell_type": "code",
      "execution_count": null,
      "id": "4cd37002",
      "metadata": {
        "id": "4cd37002",
        "outputId": "0638c10f-da40-4c41-c8d9-1167651e857f"
      },
      "outputs": [
        {
          "data": {
            "text/plain": [
              "set()"
            ]
          },
          "execution_count": 22,
          "metadata": {},
          "output_type": "execute_result"
        }
      ],
      "source": [
        "a = set()\n",
        "a"
      ]
    },
    {
      "cell_type": "code",
      "execution_count": null,
      "id": "6e4631c2",
      "metadata": {
        "id": "6e4631c2",
        "outputId": "3ea6f6be-b7dc-4a21-899e-e41954ba3e91"
      },
      "outputs": [
        {
          "data": {
            "text/plain": [
              "{'h', 'n', 'o', 'p', 't', 'y'}"
            ]
          },
          "execution_count": 23,
          "metadata": {},
          "output_type": "execute_result"
        }
      ],
      "source": [
        "a = set('python')\n",
        "a"
      ]
    },
    {
      "cell_type": "code",
      "execution_count": null,
      "id": "5d3ac980",
      "metadata": {
        "id": "5d3ac980",
        "outputId": "291f9516-9798-4530-cd8e-e528d2f36423"
      },
      "outputs": [
        {
          "data": {
            "text/plain": [
              "{'a', 'b', 'c', 'd'}"
            ]
          },
          "execution_count": 24,
          "metadata": {},
          "output_type": "execute_result"
        }
      ],
      "source": [
        "a = {'a', 'b', 'c', 'd'}\n",
        "a"
      ]
    },
    {
      "cell_type": "code",
      "execution_count": null,
      "id": "7cc6733d",
      "metadata": {
        "id": "7cc6733d",
        "outputId": "c722eee6-84ba-4312-a732-9666583507fd"
      },
      "outputs": [
        {
          "data": {
            "text/plain": [
              "{0, 1, 4, 9, 16, 25, 36, 49, 64, 81}"
            ]
          },
          "execution_count": 25,
          "metadata": {},
          "output_type": "execute_result"
        }
      ],
      "source": [
        "a = {i ** 2 for i in range(10)} # генератор множеств\n",
        "a"
      ]
    },
    {
      "cell_type": "markdown",
      "id": "f8e2ce63",
      "metadata": {
        "id": "f8e2ce63"
      },
      "source": [
        "Но вот так создать множество нельзя, получится словарь:"
      ]
    },
    {
      "cell_type": "code",
      "execution_count": null,
      "id": "87afc75d",
      "metadata": {
        "id": "87afc75d",
        "outputId": "96375134-b178-4b87-fb3a-9a9465a9ebab"
      },
      "outputs": [
        {
          "data": {
            "text/plain": [
              "dict"
            ]
          },
          "execution_count": 26,
          "metadata": {},
          "output_type": "execute_result"
        }
      ],
      "source": [
        "a = {}\n",
        "type(a)"
      ]
    },
    {
      "cell_type": "markdown",
      "id": "321341ee",
      "metadata": {
        "id": "321341ee"
      },
      "source": [
        "Преобразование к множеству списка можно использовать для удаления дубликатов в списке."
      ]
    },
    {
      "cell_type": "code",
      "execution_count": null,
      "id": "852c200a",
      "metadata": {
        "id": "852c200a",
        "outputId": "67eb9bea-4b85-4ac9-dfe8-2f402c5d24ad"
      },
      "outputs": [
        {
          "data": {
            "text/plain": [
              "{'hello', 'mipt', 'python'}"
            ]
          },
          "execution_count": 27,
          "metadata": {},
          "output_type": "execute_result"
        }
      ],
      "source": [
        "words = ['hello', 'python', 'hello', 'mipt']\n",
        "set(words)"
      ]
    },
    {
      "cell_type": "markdown",
      "id": "677f6acb",
      "metadata": {
        "id": "677f6acb"
      },
      "source": [
        "С множествами можно выполнять следующие действия:\n",
        "\n",
        "**len(s)** - число элементов в множестве (размер множества).\n",
        "\n",
        "**x in s** - принадлежит ли x множеству s.\n",
        "\n",
        "**set.isdisjoint(other)** - истина, если set и other не имеют общих элементов.\n",
        "\n",
        "**set == other** - все элементы set принадлежат other, все элементы other принадлежат set.\n",
        "\n",
        "**set.issubset(other) или set <= other** - все элементы set принадлежат other.\n",
        "\n",
        "**set.issuperset(other) или set >= other** - аналогично.\n",
        "\n",
        "**set.union(other, ...) или set | other | ...** - объединение нескольких множеств.\n",
        "\n",
        "**set.intersection(other, ...) или set & other & ...** - пересечение.\n",
        "\n",
        "**set.difference(other, ...) или set - other - ...** - множество из всех элементов set, не принадлежащие ни одному из other.\n",
        "\n",
        "**set.symmetric_difference(other); set ^ other** - множество из элементов, встречающихся в одном множестве, но не встречающиеся в обоих.\n",
        "\n",
        "**set.copy()** - копирование множества.\n",
        "\n",
        "**set.update(other, ...); set |= other | ...** - объединение.\n",
        "\n",
        "**set.intersection_update(other, ...); set &= other & ...** - пересечение.\n",
        "\n",
        "**set.difference_update(other, ...); set -= other | ...** - вычитание.\n",
        "\n",
        "**set.symmetric_difference_update(other); set ^= other** - множество из элементов, встречающихся в одном множестве, но не встречающиеся в обоих.\n",
        "\n",
        "**set.add(elem)** - добавляет элемент в множество.\n",
        "\n",
        "**set.remove(elem)** - удаляет элемент из множества. Возникает KeyError, если такого элемента не существует.\n",
        "\n",
        "**set.discard(elem)** - удаляет элемент, если он находится в множестве.\n",
        "\n",
        "**set.pop()** - удаляет первый элемент из множества. Так как множества не упорядочены, нельзя точно сказать, какой элемент будет первым.\n",
        "\n",
        "**set.clear()** - очистка множества."
      ]
    },
    {
      "cell_type": "code",
      "execution_count": null,
      "id": "733a951e",
      "metadata": {
        "id": "733a951e",
        "outputId": "3092fb4c-2792-443f-e415-1d3bc66e51fa"
      },
      "outputs": [
        {
          "name": "stdout",
          "output_type": "stream",
          "text": [
            "{1, 2, 3, 4}\n"
          ]
        }
      ],
      "source": [
        "a = {1, 2, 3}\n",
        "a.add(4)\n",
        "print(a)"
      ]
    },
    {
      "cell_type": "markdown",
      "id": "1f53ac5e",
      "metadata": {
        "id": "1f53ac5e"
      },
      "source": [
        "Для удаления элементов из множества можно использовать `discard` и `remove`, их поведение различается тогда, когда удаляемый элемент отсутствует в множестве: `discard` не делает ничего, а метод `remove` генерирует исключение `KeyError`, которое вы увидите в одной из ячеек ниже."
      ]
    },
    {
      "cell_type": "code",
      "execution_count": null,
      "id": "5a50ae01",
      "metadata": {
        "id": "5a50ae01",
        "outputId": "201355ca-f432-4721-a2ac-b4de00f357e2"
      },
      "outputs": [
        {
          "name": "stdout",
          "output_type": "stream",
          "text": [
            "{2, 3, 4}\n"
          ]
        }
      ],
      "source": [
        "a.remove(1)\n",
        "print(a)"
      ]
    },
    {
      "cell_type": "code",
      "execution_count": null,
      "id": "a7582893",
      "metadata": {
        "id": "a7582893",
        "outputId": "d0136cd6-9e26-4fe9-9474-5878f3831f3c"
      },
      "outputs": [
        {
          "ename": "KeyError",
          "evalue": "0",
          "output_type": "error",
          "traceback": [
            "\u001b[1;31m---------------------------------------------------------------------------\u001b[0m",
            "\u001b[1;31mKeyError\u001b[0m                                  Traceback (most recent call last)",
            "\u001b[1;32m~\\AppData\\Local\\Temp\\ipykernel_15132\\3813938388.py\u001b[0m in \u001b[0;36m<module>\u001b[1;34m\u001b[0m\n\u001b[1;32m----> 1\u001b[1;33m \u001b[0ma\u001b[0m\u001b[1;33m.\u001b[0m\u001b[0mremove\u001b[0m\u001b[1;33m(\u001b[0m\u001b[1;36m0\u001b[0m\u001b[1;33m)\u001b[0m\u001b[1;33m\u001b[0m\u001b[1;33m\u001b[0m\u001b[0m\n\u001b[0m\u001b[0;32m      2\u001b[0m \u001b[0mprint\u001b[0m\u001b[1;33m(\u001b[0m\u001b[0ma\u001b[0m\u001b[1;33m)\u001b[0m\u001b[1;33m\u001b[0m\u001b[1;33m\u001b[0m\u001b[0m\n",
            "\u001b[1;31mKeyError\u001b[0m: 0"
          ]
        }
      ],
      "source": [
        "a.remove(0)\n",
        "print(a)"
      ]
    },
    {
      "cell_type": "code",
      "execution_count": null,
      "id": "4d725641",
      "metadata": {
        "id": "4d725641",
        "outputId": "faa90f9a-6039-4e40-d949-d46e651e300f"
      },
      "outputs": [
        {
          "name": "stdout",
          "output_type": "stream",
          "text": [
            "{3, 4}\n"
          ]
        }
      ],
      "source": [
        "a.discard(2)\n",
        "print(a)"
      ]
    },
    {
      "cell_type": "code",
      "execution_count": null,
      "id": "c3a19d6e",
      "metadata": {
        "id": "c3a19d6e",
        "outputId": "f2a311a1-ddea-4826-978d-d83afb9053ab"
      },
      "outputs": [
        {
          "name": "stdout",
          "output_type": "stream",
          "text": [
            "{3, 4}\n"
          ]
        }
      ],
      "source": [
        "a.discard(0)\n",
        "print(a)"
      ]
    },
    {
      "cell_type": "markdown",
      "id": "66dec6bd",
      "metadata": {
        "id": "66dec6bd"
      },
      "source": [
        "Операции над множествами можно записывать как коротко символами, так и названиями соответствующих функций:"
      ]
    },
    {
      "cell_type": "code",
      "execution_count": null,
      "id": "254047c2",
      "metadata": {
        "id": "254047c2",
        "outputId": "100c29fb-4b1c-4d94-a9fa-ff6ee97a7d3f"
      },
      "outputs": [
        {
          "name": "stdout",
          "output_type": "stream",
          "text": [
            "{1, 2, 3, 4, 5, 6}\n",
            "{1, 2, 3, 4, 5, 6}\n"
          ]
        }
      ],
      "source": [
        "a = {1, 2, 3, 4}\n",
        "b = {3, 4, 5, 6}\n",
        "print(a.union(b))\n",
        "print(a | b)"
      ]
    },
    {
      "cell_type": "code",
      "execution_count": null,
      "id": "ce006e7f",
      "metadata": {
        "id": "ce006e7f",
        "outputId": "1139c400-a65c-420a-daef-d10f68fd6312"
      },
      "outputs": [
        {
          "name": "stdout",
          "output_type": "stream",
          "text": [
            "{3, 4}\n",
            "{3, 4}\n"
          ]
        }
      ],
      "source": [
        "a = {1, 2, 3, 4}\n",
        "b = {3, 4, 5, 6}\n",
        "print(a.intersection(b))\n",
        "print(a & b)"
      ]
    },
    {
      "cell_type": "code",
      "execution_count": null,
      "id": "eb39cde3",
      "metadata": {
        "id": "eb39cde3",
        "outputId": "f1d14ae4-4dff-438b-cf64-58c01c96c33d"
      },
      "outputs": [
        {
          "name": "stdout",
          "output_type": "stream",
          "text": [
            "{1, 2}\n",
            "{1, 2}\n"
          ]
        }
      ],
      "source": [
        "a = {1, 2, 3, 4}\n",
        "b = {3, 4, 5, 6}\n",
        "print(a.difference(b))\n",
        "print(a - b)"
      ]
    },
    {
      "cell_type": "markdown",
      "id": "a4550fa3",
      "metadata": {
        "id": "a4550fa3"
      },
      "source": [
        "Симметрическая разность двух множеств - множество, состоящее из элементов, входящих в одно и только одно из данных множеств:"
      ]
    },
    {
      "cell_type": "code",
      "execution_count": null,
      "id": "f0c69c0c",
      "metadata": {
        "id": "f0c69c0c",
        "outputId": "7bcc95a5-3ab4-4738-f906-aa9e2d1479cd"
      },
      "outputs": [
        {
          "name": "stdout",
          "output_type": "stream",
          "text": [
            "{1, 2, 5, 6}\n",
            "{1, 2, 5, 6}\n"
          ]
        }
      ],
      "source": [
        "a = {1, 2, 3, 4}\n",
        "b = {3, 4, 5, 6}\n",
        "print(a.symmetric_difference(b))\n",
        "print(a ^ b)"
      ]
    },
    {
      "cell_type": "code",
      "execution_count": null,
      "id": "38416862",
      "metadata": {
        "id": "38416862",
        "outputId": "5a8e88da-2ec7-4d33-8369-69a1d751f5b9"
      },
      "outputs": [
        {
          "ename": "SyntaxError",
          "evalue": "invalid syntax (1096921135.py, line 1)",
          "output_type": "error",
          "traceback": [
            "\u001b[1;36m  File \u001b[1;32m\"C:\\Users\\medve\\AppData\\Local\\Temp\\ipykernel_15132\\1096921135.py\"\u001b[1;36m, line \u001b[1;32m1\u001b[0m\n\u001b[1;33m    Проверка того что множество является подмножестовм другого множества:\u001b[0m\n\u001b[1;37m             ^\u001b[0m\n\u001b[1;31mSyntaxError\u001b[0m\u001b[1;31m:\u001b[0m invalid syntax\n"
          ]
        }
      ],
      "source": [
        "Проверка того что множество является подмножестовм другого множества:"
      ]
    },
    {
      "cell_type": "code",
      "execution_count": null,
      "id": "a51212d4",
      "metadata": {
        "id": "a51212d4",
        "outputId": "20a0ed81-4148-4375-a1dc-8551af8c96c3"
      },
      "outputs": [
        {
          "name": "stdout",
          "output_type": "stream",
          "text": [
            "False\n",
            "False\n",
            "True\n",
            "True\n"
          ]
        }
      ],
      "source": [
        "a = {1, 2, 3, 4}\n",
        "b = {3, 4, 5, 6}\n",
        "print(a <= b)\n",
        "print(a.issubset(b))\n",
        "\n",
        "c = {3, 4}\n",
        "d = {3, 4, 5, 6}\n",
        "print(c <= d)\n",
        "print(c.issubset(d))"
      ]
    },
    {
      "cell_type": "markdown",
      "id": "b74a64a1",
      "metadata": {
        "id": "b74a64a1"
      },
      "source": [
        "Перебрать все элементы множества (в неопределенном порядке!) можно при помощи цикла for:"
      ]
    },
    {
      "cell_type": "code",
      "execution_count": null,
      "id": "44292ba3",
      "metadata": {
        "id": "44292ba3",
        "outputId": "67044c18-bef9-4ebf-fdf3-bd7371853a66"
      },
      "outputs": [
        {
          "name": "stdout",
          "output_type": "stream",
          "text": [
            "2\n",
            "3\n",
            "5\n",
            "7\n",
            "11\n"
          ]
        }
      ],
      "source": [
        "numbers = {2, 3, 5, 7, 11}\n",
        "for num in numbers:\n",
        "    print(num)"
      ]
    },
    {
      "cell_type": "markdown",
      "id": "2f73d2af",
      "metadata": {
        "id": "2f73d2af"
      },
      "source": [
        "## Кортежи\n",
        "\n",
        "Кортеж можно представить как неизменяемый список. Неизменяемость необходима для того чтобы защитить данные от изменений. Преимуществом кортежей по сравнению со списками является меньший размер:"
      ]
    },
    {
      "cell_type": "code",
      "execution_count": null,
      "id": "7a5b3527",
      "metadata": {
        "id": "7a5b3527",
        "outputId": "d6d42e83-7aa2-4442-b6b3-9eeee20d1aef"
      },
      "outputs": [
        {
          "name": "stdout",
          "output_type": "stream",
          "text": [
            "72\n",
            "136\n"
          ]
        }
      ],
      "source": [
        "a = (1, 2, 3, 4, 5, 6)\n",
        "b = [1, 2, 3, 4, 5, 6]\n",
        "print(a.__sizeof__())\n",
        "print(b.__sizeof__())"
      ]
    },
    {
      "cell_type": "markdown",
      "id": "7d67507f",
      "metadata": {
        "id": "7d67507f"
      },
      "source": [
        "Неизменяемость кортежей позволяет использовать их в качестве ключей словаря."
      ]
    },
    {
      "cell_type": "markdown",
      "id": "1d1a0ba1",
      "metadata": {
        "id": "1d1a0ba1"
      },
      "source": [
        "Создать кортеж можно следующим образом:"
      ]
    },
    {
      "cell_type": "code",
      "execution_count": null,
      "id": "6c5d06e7",
      "metadata": {
        "id": "6c5d06e7"
      },
      "outputs": [],
      "source": [
        "a = tuple() # С помощью встроенной функции tuple()\n",
        "a = () # С помощью литерала кортежа"
      ]
    },
    {
      "cell_type": "code",
      "execution_count": null,
      "id": "7ba45e05",
      "metadata": {
        "id": "7ba45e05",
        "outputId": "c133fa3c-e48c-4335-b55e-2bcd8f07492b"
      },
      "outputs": [
        {
          "ename": "SyntaxError",
          "evalue": "invalid syntax (4113409652.py, line 1)",
          "output_type": "error",
          "traceback": [
            "\u001b[1;36m  File \u001b[1;32m\"C:\\Users\\medve\\AppData\\Local\\Temp\\ipykernel_15132\\4113409652.py\"\u001b[1;36m, line \u001b[1;32m1\u001b[0m\n\u001b[1;33m    Создаём кортеж из одного элемента, но .... получаем строку:\u001b[0m\n\u001b[1;37m            ^\u001b[0m\n\u001b[1;31mSyntaxError\u001b[0m\u001b[1;31m:\u001b[0m invalid syntax\n"
          ]
        }
      ],
      "source": [
        "Создаём кортеж из одного элемента, но .... получаем строку:"
      ]
    },
    {
      "cell_type": "code",
      "execution_count": null,
      "id": "f376e184",
      "metadata": {
        "id": "f376e184",
        "outputId": "7575a947-5a09-4161-8413-e51279b9a28f"
      },
      "outputs": [
        {
          "data": {
            "text/plain": [
              "'s'"
            ]
          },
          "execution_count": 43,
          "metadata": {},
          "output_type": "execute_result"
        }
      ],
      "source": [
        "a = ('s')\n",
        "a"
      ]
    },
    {
      "cell_type": "code",
      "execution_count": null,
      "id": "cd5ceb69",
      "metadata": {
        "id": "cd5ceb69",
        "outputId": "b726889a-1b9a-435a-c216-484d5b38efc2"
      },
      "outputs": [
        {
          "ename": "SyntaxError",
          "evalue": "invalid syntax (2537154394.py, line 1)",
          "output_type": "error",
          "traceback": [
            "\u001b[1;36m  File \u001b[1;32m\"C:\\Users\\medve\\AppData\\Local\\Temp\\ipykernel_15132\\2537154394.py\"\u001b[1;36m, line \u001b[1;32m1\u001b[0m\n\u001b[1;33m    Для того, чтобы создать кортеж из одного элемента нужно использовать:\u001b[0m\n\u001b[1;37m        ^\u001b[0m\n\u001b[1;31mSyntaxError\u001b[0m\u001b[1;31m:\u001b[0m invalid syntax\n"
          ]
        }
      ],
      "source": [
        "Для того, чтобы создать кортеж из одного элемента нужно использовать:"
      ]
    },
    {
      "cell_type": "code",
      "execution_count": null,
      "id": "33ed399f",
      "metadata": {
        "id": "33ed399f",
        "outputId": "c1b2f6ff-8886-4203-86f1-e06ecdb1a76f"
      },
      "outputs": [
        {
          "data": {
            "text/plain": [
              "('s',)"
            ]
          },
          "execution_count": 45,
          "metadata": {},
          "output_type": "execute_result"
        }
      ],
      "source": [
        "a = ('s', )\n",
        "a"
      ]
    },
    {
      "cell_type": "markdown",
      "id": "6ac0b7d4",
      "metadata": {
        "id": "6ac0b7d4"
      },
      "source": [
        "## Функции map, filter, reduce, zip\n",
        "\n",
        "Функция map() — это встроенная функция, которая позволяет обрабатывать и преобразовывать все элементы в итерируемом объекте без использования явного цикла for, методом, широко известным как сопоставление (mapping). Эта функция полезна когда нужно применить функцию преобразования к каждому элементу в коллекции или в массиве и преобразовать их в новый массив.\n",
        "\n",
        "`map(function, iterable[, iterable1, iterable2,..., iterableN])`\n",
        "\n",
        "Первый аргумент map() — это объект функция, что означает, что вам нужно передать функцию, не вызывая ее, т. е. без пары скобок."
      ]
    },
    {
      "cell_type": "code",
      "execution_count": null,
      "id": "dc176096",
      "metadata": {
        "id": "dc176096",
        "outputId": "595d4f49-8239-43fb-95a2-71c4bb66cea2"
      },
      "outputs": [
        {
          "name": "stdout",
          "output_type": "stream",
          "text": [
            "[1, 4, 9, 16, 25]\n"
          ]
        }
      ],
      "source": [
        "numbers = [1, 2, 3, 4, 5]\n",
        "squared = []\n",
        "for num in numbers:\n",
        "    squared.append(num ** 2)\n",
        "\n",
        "print(squared)"
      ]
    },
    {
      "cell_type": "code",
      "execution_count": null,
      "id": "18d28b49",
      "metadata": {
        "id": "18d28b49",
        "outputId": "ef0c9828-2970-4b19-ab31-92cf617b75ae"
      },
      "outputs": [
        {
          "name": "stdout",
          "output_type": "stream",
          "text": [
            "[1, 4, 9, 16, 25]\n"
          ]
        }
      ],
      "source": [
        "def square(num):\n",
        "    return num ** 2\n",
        "\n",
        "numbers = [1, 2, 3, 4, 5]\n",
        "squared = map(square, numbers)\n",
        "print(list(squared))"
      ]
    },
    {
      "cell_type": "markdown",
      "id": "50d25d55",
      "metadata": {
        "id": "50d25d55"
      },
      "source": [
        "Так как функция map() возвращает объект с типом - <class 'filter'>, для получения самого результата необходимо преобразовать вывод."
      ]
    },
    {
      "cell_type": "markdown",
      "id": "292f1f15",
      "metadata": {
        "id": "292f1f15"
      },
      "source": [
        "Функция filter() в Python применяет другую функцию к заданному итерируемому объекту (список, строка, словарь и так далее), проверяя, нужно ли сохранить конкретный элемент или нет. Другими словами, эта функция отфильтровывает то, что не проходит и возвращает все остальное.\n",
        "\n",
        "Функция filter() принимает два параметра. Первый — имя созданной пользователем функции, а второй — итерируемый объект (список, строка, множество, кортеж и так далее)."
      ]
    },
    {
      "cell_type": "code",
      "execution_count": null,
      "id": "0f9e82e8",
      "metadata": {
        "id": "0f9e82e8",
        "outputId": "7ee2d8d5-812f-439c-a0c1-d1b082dc9330"
      },
      "outputs": [
        {
          "name": "stdout",
          "output_type": "stream",
          "text": [
            "Тип объекта out_filter:  <class 'filter'>\n",
            "Отфильтрованный список:  [2, 4, 8, 10]\n"
          ]
        }
      ],
      "source": [
        "numbers = [1, 2, 4, 5, 7, 8, 10, 11]\n",
        "\n",
        "# функция, которая проверяет числа\n",
        "def filter_odd_num(in_num):\n",
        "    if(in_num % 2) == 0:\n",
        "        return True\n",
        "    else:\n",
        "        return False\n",
        "\n",
        "# Применение filter() для удаления нечетных чисел\n",
        "out_filter = filter(filter_odd_num, numbers)\n",
        "\n",
        "print(\"Тип объекта out_filter: \", type(out_filter))\n",
        "print(\"Отфильтрованный список: \", list(out_filter))"
      ]
    },
    {
      "cell_type": "code",
      "execution_count": null,
      "id": "116d5e32",
      "metadata": {
        "id": "116d5e32",
        "outputId": "16e98231-d3c6-4e7e-d7e3-ebb5ffecc908"
      },
      "outputs": [
        {
          "name": "stdout",
          "output_type": "stream",
          "text": [
            "Отфильтрованный список: ['CSharp', 'Java', 'Scala', 'JavaScript', 'PHP']\n"
          ]
        }
      ],
      "source": [
        "list1 = [\"Python\", \"CSharp\", \"Java\", \"Go\"]\n",
        "list2 = [\"Python\", \"Scala\", \"JavaScript\", \"Go\", \"PHP\"]\n",
        "\n",
        "def filter_duplicate(string_to_check):\n",
        "    if string_to_check in ll:\n",
        "        return False\n",
        "    else:\n",
        "        return True\n",
        "\n",
        "# Применение filter() для удаления повторяющихся строк\n",
        "ll = list2\n",
        "out_filter = list(filter(filter_duplicate, list1))\n",
        "ll = list1\n",
        "out_filter += list(filter(filter_duplicate, list2))\n",
        "\n",
        "print(\"Отфильтрованный список:\", out_filter)"
      ]
    },
    {
      "cell_type": "markdown",
      "id": "4a4a093a",
      "metadata": {
        "id": "4a4a093a"
      },
      "source": [
        "Функция reduce() принимает в качестве аргументов функцию и список. Функция вызывается с помощью лямбда-функции и итерируемого объекта и возвращается новый уменьшенный результат. Так выполняется повторяющаяся операцию над парами итерируемых объектов. Функция reduce() входит в состав модуля functools."
      ]
    },
    {
      "cell_type": "code",
      "execution_count": null,
      "id": "020ac6d0",
      "metadata": {
        "id": "020ac6d0",
        "outputId": "076d556c-6999-41f4-f75f-e3ad53bf92c3"
      },
      "outputs": [
        {
          "name": "stdout",
          "output_type": "stream",
          "text": [
            "16\n"
          ]
        }
      ],
      "source": [
        "from functools import reduce\n",
        "\n",
        "\n",
        "lst = [5, 1, 4, 1, 2, 3]\n",
        "summa = reduce((lambda x, y: x + y), lst)\n",
        "print(summa)"
      ]
    },
    {
      "cell_type": "code",
      "execution_count": null,
      "id": "495ab388",
      "metadata": {
        "id": "495ab388",
        "outputId": "0770bca5-1d42-4ef9-bb19-45ea7452377c"
      },
      "outputs": [
        {
          "name": "stdout",
          "output_type": "stream",
          "text": [
            "514123\n"
          ]
        }
      ],
      "source": [
        "lst = ['5', '1', '4', '1', '2', '3']\n",
        "summa = reduce((lambda x, y: x + y), lst)\n",
        "print(summa)"
      ]
    },
    {
      "cell_type": "markdown",
      "id": "21e7435a",
      "metadata": {
        "id": "21e7435a"
      },
      "source": [
        "Функция zip() в Python создает итератор, который объединяет элементы из нескольких источников данных. Эта функция работает со списками, кортежами, множествами и словарями для создания списков или кортежей, включающих все эти данные."
      ]
    },
    {
      "cell_type": "code",
      "source": [],
      "metadata": {
        "id": "9Th0ZvFRKiHx"
      },
      "id": "9Th0ZvFRKiHx",
      "execution_count": null,
      "outputs": []
    },
    {
      "cell_type": "code",
      "execution_count": null,
      "id": "f0ba0101",
      "metadata": {
        "id": "f0ba0101",
        "outputId": "5c3a3930-3730-49f2-e5bb-00480de9ed7b"
      },
      "outputs": [
        {
          "name": "stdout",
          "output_type": "stream",
          "text": [
            "[('c', 2), ('a1', 9), ('b', 18), ('d', 28)]\n",
            "[(2, 'c'), (9, 'a1'), (18, 'b'), (28, 'd')]\n"
          ]
        }
      ],
      "source": [
        "numbers = [2, 9, 18, 28, 2]\n",
        "str_1 = [\"c\", \"a1\", \"b\", \"d\"]\n",
        "\n",
        "zipped_values = zip(str_1, numbers)\n",
        "zipped_list = list(zipped_values)\n",
        "\n",
        "print(zipped_list)\n",
        "\n",
        "zipped_values = zip(numbers, str_1)\n",
        "zipped_list = list(zipped_values)\n",
        "\n",
        "print(zipped_list)"
      ]
    },
    {
      "cell_type": "markdown",
      "id": "f09bb43a",
      "metadata": {
        "id": "f09bb43a"
      },
      "source": [
        "# Задания"
      ]
    },
    {
      "cell_type": "markdown",
      "id": "0045040c",
      "metadata": {
        "id": "0045040c"
      },
      "source": [
        "1. Введите с клавиатуры строку, содержащую элементы списка. Элементы разделены пробелом. Поменяйте порядок элементов списка на обратный."
      ]
    },
    {
      "cell_type": "code",
      "execution_count": 2,
      "id": "a52e5aca",
      "metadata": {
        "colab": {
          "base_uri": "https://localhost:8080/"
        },
        "id": "a52e5aca",
        "outputId": "76d34f67-4196-418b-b535-97d373aa4f9e"
      },
      "outputs": [
        {
          "name": "stdout",
          "output_type": "stream",
          "text": [
            "1 2 3 4 5\n"
          ]
        },
        {
          "output_type": "execute_result",
          "data": {
            "text/plain": [
              "['5', '4', '3', '2', '1']"
            ]
          },
          "metadata": {},
          "execution_count": 2
        }
      ],
      "source": [
        "lst = input().split()\n",
        "lst.reverse()\n",
        "lst"
      ]
    },
    {
      "cell_type": "markdown",
      "id": "d5307341",
      "metadata": {
        "id": "d5307341"
      },
      "source": [
        "2. C помощью цикла создайте список чисел от 1 до 10, а также списки их квадратов и кубов. Выведите полученные списки на экран. Отфильтруйте те значения, которые делятся на 2 без остатка."
      ]
    },
    {
      "cell_type": "code",
      "source": [
        "list(range(1, 11))"
      ],
      "metadata": {
        "colab": {
          "base_uri": "https://localhost:8080/"
        },
        "id": "aaDG2K_VKww7",
        "outputId": "eb0ab680-e99a-4399-ea29-611bb5695618"
      },
      "id": "aaDG2K_VKww7",
      "execution_count": 3,
      "outputs": [
        {
          "output_type": "execute_result",
          "data": {
            "text/plain": [
              "[1, 2, 3, 4, 5, 6, 7, 8, 9, 10]"
            ]
          },
          "metadata": {},
          "execution_count": 3
        }
      ]
    },
    {
      "cell_type": "code",
      "source": [
        "list(map(lambda x: x * x, range(1, 11)))"
      ],
      "metadata": {
        "colab": {
          "base_uri": "https://localhost:8080/"
        },
        "id": "ikolvxgfK2s1",
        "outputId": "1f3df84c-8161-4cb4-9b7d-f648734b665d"
      },
      "id": "ikolvxgfK2s1",
      "execution_count": 4,
      "outputs": [
        {
          "output_type": "execute_result",
          "data": {
            "text/plain": [
              "[1, 4, 9, 16, 25, 36, 49, 64, 81, 100]"
            ]
          },
          "metadata": {},
          "execution_count": 4
        }
      ]
    },
    {
      "cell_type": "markdown",
      "source": [],
      "metadata": {
        "id": "m1_JQIdmLJZt"
      },
      "id": "m1_JQIdmLJZt"
    },
    {
      "cell_type": "markdown",
      "id": "29b469a7",
      "metadata": {
        "id": "29b469a7"
      },
      "source": [
        "3. Напишите функцию, которая принимает два списка и возвращает новый список, в котором каждый элемент равен произведению элементов обоих списков."
      ]
    },
    {
      "cell_type": "code",
      "source": [
        "def f(a, b):\n",
        "  return [a[i] * b[i] for i in range(len(a))]"
      ],
      "metadata": {
        "id": "6K4jjxCiK_gF"
      },
      "id": "6K4jjxCiK_gF",
      "execution_count": 5,
      "outputs": []
    },
    {
      "cell_type": "markdown",
      "id": "231bd1eb",
      "metadata": {
        "id": "231bd1eb"
      },
      "source": [
        "4. На основании 3 исходных множеств (передаются в качестве аргументов функции diff()) требуется написать функцию, которая будет возвращать либо симметричную разность, либо просто разность (если дополнительный аргумент функции symmetric имеет значение False) приведенных объектов в порядке: 1-ое множество, 2-ое множество, 3-е множество."
      ]
    },
    {
      "cell_type": "code",
      "source": [
        "def diff(set1, set2, set3, symmetric=False):\n",
        "  if symmetric:\n",
        "    return set1 ^ set2 ^ set3\n",
        "  return set1 - set2 - set3"
      ],
      "metadata": {
        "id": "59zVjcBhLQ6R"
      },
      "id": "59zVjcBhLQ6R",
      "execution_count": 6,
      "outputs": []
    },
    {
      "cell_type": "markdown",
      "id": "c3947b4a",
      "metadata": {
        "id": "c3947b4a"
      },
      "source": [
        "5. Напишите программу, которая удаляет из списка чисел нечетные числа."
      ]
    },
    {
      "cell_type": "code",
      "execution_count": 10,
      "id": "4dd55eee",
      "metadata": {
        "colab": {
          "base_uri": "https://localhost:8080/"
        },
        "id": "4dd55eee",
        "outputId": "1c270dd4-56af-4aec-f04a-d35b967e264d"
      },
      "outputs": [
        {
          "output_type": "execute_result",
          "data": {
            "text/plain": [
              "[2, 4, 6, 8, 10]"
            ]
          },
          "metadata": {},
          "execution_count": 10
        }
      ],
      "source": [
        "list_numbers = [1, 2, 3, 4, 5, 6, 7, 8, 9, 10]\n",
        "[i for i in list_numbers if i % 2 == 0]"
      ]
    },
    {
      "cell_type": "markdown",
      "id": "157e1e37",
      "metadata": {
        "id": "157e1e37"
      },
      "source": [
        "6. Сгенерируйте числа от 1 до 10000 и найдите их сумму."
      ]
    },
    {
      "cell_type": "code",
      "execution_count": 11,
      "id": "e02fda70",
      "metadata": {
        "colab": {
          "base_uri": "https://localhost:8080/"
        },
        "id": "e02fda70",
        "outputId": "3f731951-503d-4588-d405-55884134231c"
      },
      "outputs": [
        {
          "output_type": "execute_result",
          "data": {
            "text/plain": [
              "490202"
            ]
          },
          "metadata": {},
          "execution_count": 11
        }
      ],
      "source": [
        "from random import randint\n",
        "list_random = [randint(1, 1000) for _ in range(1000)]\n",
        "sum(list_random)"
      ]
    },
    {
      "cell_type": "markdown",
      "id": "0282597b",
      "metadata": {
        "id": "0282597b"
      },
      "source": [
        "7. Перед вами имеется список numbers, состоящий из целых чисел. Ваша задача преобразовать каждый элемент списка numbers в строку и сохранить полученный результат в новый список strings. Для преобразования используйте функцию map.\n",
        "В качестве ответа выведите переменную strings."
      ]
    },
    {
      "cell_type": "code",
      "execution_count": 13,
      "id": "97a47829",
      "metadata": {
        "colab": {
          "base_uri": "https://localhost:8080/"
        },
        "id": "97a47829",
        "outputId": "f693b5b2-6781-4e00-dcdc-de212d011611"
      },
      "outputs": [
        {
          "output_type": "execute_result",
          "data": {
            "text/plain": [
              "['1', '2', '3', '4', '5', '6', '7', '8', '9', '10']"
            ]
          },
          "metadata": {},
          "execution_count": 13
        }
      ],
      "source": [
        "numbers = [1, 2, 3, 4, 5, 6, 7, 8, 9, 10]\n",
        "strings = list(map(str, numbers))\n",
        "strings"
      ]
    },
    {
      "cell_type": "markdown",
      "id": "257ece4a",
      "metadata": {
        "id": "257ece4a"
      },
      "source": [
        "8. Напишите функцию superset(), которая принимает 2 множества. Результат работы функции: вывод в консоль одного из сообщений в зависимости от ситуации:\n",
        "1 - «Супермножество не обнаружено»\n",
        "2 – «Объект {X} является чистым супермножеством»\n",
        "3 – «Множества равны»"
      ]
    },
    {
      "cell_type": "code",
      "source": [
        "def superset(set1, set2):\n",
        "     if set1 == set2:\n",
        "      print(\"Множества равны\")\n",
        "      return\n",
        "     if set1.issuperset(set2):\n",
        "      print(f\"Объект {set1} является чистым\")\n",
        "     elif set2.issuperset(set1):\n",
        "      print(f\"Объект {set2} является чистым\")\n",
        "     else:\n",
        "      print(\"Супермножество не обнаружено\")"
      ],
      "metadata": {
        "id": "4tZZOLNINHVP"
      },
      "id": "4tZZOLNINHVP",
      "execution_count": 15,
      "outputs": []
    },
    {
      "cell_type": "markdown",
      "id": "cfacdb8f",
      "metadata": {
        "id": "cfacdb8f"
      },
      "source": [
        "9*. Предоставлен список натуральных чисел. Требуется сформировать из них множество. Если какое-либо число повторяется, то преобразовать его в строку по образцу: например, если число 4 повторяется 3 раза, то в множестве будет следующая запись: само число 4, строка «44» (второе повторение, т.е. число дублируется в строке), строка «444» (третье повторение, т.е. строка множится на 3). Реализуйте вывод множества через функцию set_gen()."
      ]
    },
    {
      "cell_type": "code",
      "source": [
        "def set_gen(numbers):\n",
        "  print(set([str(i) * numbers.count(i) for i in numbers]))\n",
        "# в сулоие маленькая проблема в том что у нас может быть сисок 44 44 4 4 4 4  в итоге буцдет 4444 4444?"
      ],
      "metadata": {
        "id": "R28D-eUzOQwN"
      },
      "id": "R28D-eUzOQwN",
      "execution_count": null,
      "outputs": []
    },
    {
      "cell_type": "markdown",
      "id": "786eb41a",
      "metadata": {
        "id": "786eb41a"
      },
      "source": [
        "10*. Создайте кортеж из 7-ми именованных кортежей учащихся ВУЗов. В именованном кортеже будут присутствовать следующие поля: имя студента, оценка за семестр, город проживания. Функция good_students() будет принимать этот кортеж, вычислять среднюю оценку по всем учащимся и выводить на печать следующее сообщение: “Ученики {список имен студентов через запятую} в этом семестре хорошо учатся!”. В список студентов, которые выводятся по результатам работы функции, попадут лишь те, у которых оценка за семестр равна или выше средней по всем учащимся."
      ]
    },
    {
      "cell_type": "code",
      "execution_count": 16,
      "id": "849320a9",
      "metadata": {
        "colab": {
          "base_uri": "https://localhost:8080/"
        },
        "id": "849320a9",
        "outputId": "da9dcf1b-857d-4fbe-8ddd-2b88f5ce9dfb"
      },
      "outputs": [
        {
          "output_type": "stream",
          "name": "stdout",
          "text": [
            "Ученики Алексей, Иван, Елена в этом семестре хорошо учатся!\n"
          ]
        }
      ],
      "source": [
        "from collections import namedtuple\n",
        "\n",
        "Student = namedtuple('Student', ['name', 'grade', 'city'])\n",
        "\n",
        "students = (\n",
        "    Student(name='Алексей', grade=4.5, city='Москва'),\n",
        "    Student(name='Мария', grade=3.8, city='Санкт-Петербург'),\n",
        "    Student(name='Иван', grade=4.9, city='Казань'),\n",
        "    Student(name='Ольга', grade=3.5, city='Екатеринбург'),\n",
        "    Student(name='Дмитрий', grade=4.2, city='Новосибирск'),\n",
        "    Student(name='Елена', grade=5.0, city='Ростов-на-Дону'),\n",
        "    Student(name='Сергей', grade=4.0, city='Нижний Новгород')\n",
        ")\n",
        "\n",
        "def good_students(students):\n",
        "    average_grade = sum(student.grade for student in students) / len(students)\n",
        "    good_students_list = [student.name for student in students if student.grade >= average_grade]\n",
        "    if good_students_list:\n",
        "        print(f\"Ученики {', '.join(good_students_list)} в этом семестре хорошо учатся!\")\n",
        "    else:\n",
        "        print(\"Нет студентов, которые хорошо учатся в этом семестре.\")\n",
        "\n",
        "\n",
        "good_students(students)"
      ]
    },
    {
      "cell_type": "code",
      "source": [],
      "metadata": {
        "id": "EwkMtxUpQHc_"
      },
      "id": "EwkMtxUpQHc_",
      "execution_count": null,
      "outputs": []
    }
  ],
  "metadata": {
    "kernelspec": {
      "display_name": "Python 3 (ipykernel)",
      "language": "python",
      "name": "python3"
    },
    "language_info": {
      "codemirror_mode": {
        "name": "ipython",
        "version": 3
      },
      "file_extension": ".py",
      "mimetype": "text/x-python",
      "name": "python",
      "nbconvert_exporter": "python",
      "pygments_lexer": "ipython3",
      "version": "3.12.4"
    },
    "colab": {
      "provenance": []
    }
  },
  "nbformat": 4,
  "nbformat_minor": 5
}