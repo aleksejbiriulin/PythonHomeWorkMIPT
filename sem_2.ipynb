{
 "cells": [
  {
   "cell_type": "markdown",
   "id": "77bfebfd",
   "metadata": {},
   "source": [
    "# Практическое занятие 2"
   ]
  },
  {
   "cell_type": "markdown",
   "id": "7df67430",
   "metadata": {},
   "source": [
    "## Строки\n",
    "\n",
    "Строки это один из основных типов данных в Python. Они используются для хранения символьной информации: букв, чисел, знаков препинания и других символов. \n",
    "\n",
    "\n",
    "К строкам применимы арифметические операции сложения (конкатенация) и умножения на целое число.\n"
   ]
  },
  {
   "cell_type": "code",
   "execution_count": 1,
   "id": "9e0fa7c0",
   "metadata": {},
   "outputs": [
    {
     "data": {
      "text/plain": [
       "'abc123'"
      ]
     },
     "execution_count": 1,
     "metadata": {},
     "output_type": "execute_result"
    }
   ],
   "source": [
    "'abc' + '123'"
   ]
  },
  {
   "cell_type": "markdown",
   "id": "bb0a1abc",
   "metadata": {},
   "source": [
    "При умножении строки на целое положителньое число `n` строка повторяется `n` раз."
   ]
  },
  {
   "cell_type": "code",
   "execution_count": 2,
   "id": "6af3864d",
   "metadata": {},
   "outputs": [
    {
     "data": {
      "text/plain": [
       "'abcabcabcabcabcabcabcabcabcabc'"
      ]
     },
     "execution_count": 2,
     "metadata": {},
     "output_type": "execute_result"
    }
   ],
   "source": [
    "'abc'*10"
   ]
  },
  {
   "cell_type": "markdown",
   "id": "4f553be0",
   "metadata": {},
   "source": [
    "Можно умножать строку на отрицательное число и нуль. В этом случае будет возвращена пустая строка:"
   ]
  },
  {
   "cell_type": "code",
   "execution_count": 3,
   "id": "02cca7f9",
   "metadata": {},
   "outputs": [
    {
     "data": {
      "text/plain": [
       "''"
      ]
     },
     "execution_count": 3,
     "metadata": {},
     "output_type": "execute_result"
    }
   ],
   "source": [
    "'abc'*-2"
   ]
  },
  {
   "cell_type": "code",
   "execution_count": 4,
   "id": "04038d29",
   "metadata": {},
   "outputs": [
    {
     "data": {
      "text/plain": [
       "''"
      ]
     },
     "execution_count": 4,
     "metadata": {},
     "output_type": "execute_result"
    }
   ],
   "source": [
    "'abc'*0"
   ]
  },
  {
   "cell_type": "markdown",
   "id": "40da8099",
   "metadata": {},
   "source": [
    "К символам строки можно обращаться по индексу (причём в Python возможен и доступ по отрицательному индексу, при этом отсчет идет от конца строки): "
   ]
  },
  {
   "cell_type": "code",
   "execution_count": 5,
   "id": "37a27be5",
   "metadata": {},
   "outputs": [
    {
     "name": "stdout",
     "output_type": "stream",
     "text": [
      "a\n",
      "f\n"
     ]
    },
    {
     "ename": "IndexError",
     "evalue": "string index out of range",
     "output_type": "error",
     "traceback": [
      "\u001b[1;31m---------------------------------------------------------------------------\u001b[0m",
      "\u001b[1;31mIndexError\u001b[0m                                Traceback (most recent call last)",
      "\u001b[1;32m~\\AppData\\Local\\Temp\\ipykernel_21192\\2692116227.py\u001b[0m in \u001b[0;36m<module>\u001b[1;34m\u001b[0m\n\u001b[0;32m      2\u001b[0m \u001b[0mprint\u001b[0m\u001b[1;33m(\u001b[0m\u001b[0mstr_1\u001b[0m\u001b[1;33m[\u001b[0m\u001b[1;36m0\u001b[0m\u001b[1;33m]\u001b[0m\u001b[1;33m)\u001b[0m\u001b[1;33m\u001b[0m\u001b[1;33m\u001b[0m\u001b[0m\n\u001b[0;32m      3\u001b[0m \u001b[0mprint\u001b[0m\u001b[1;33m(\u001b[0m\u001b[0mstr_1\u001b[0m\u001b[1;33m[\u001b[0m\u001b[1;33m-\u001b[0m\u001b[1;36m1\u001b[0m\u001b[1;33m]\u001b[0m\u001b[1;33m)\u001b[0m\u001b[1;33m\u001b[0m\u001b[1;33m\u001b[0m\u001b[0m\n\u001b[1;32m----> 4\u001b[1;33m \u001b[0mprint\u001b[0m\u001b[1;33m(\u001b[0m\u001b[0mstr_1\u001b[0m\u001b[1;33m[\u001b[0m\u001b[1;36m10\u001b[0m\u001b[1;33m]\u001b[0m\u001b[1;33m)\u001b[0m\u001b[1;33m\u001b[0m\u001b[1;33m\u001b[0m\u001b[0m\n\u001b[0m",
      "\u001b[1;31mIndexError\u001b[0m: string index out of range"
     ]
    }
   ],
   "source": [
    "str_1 = 'abcdef'\n",
    "print(str_1[0])\n",
    "print(str_1[-1])\n",
    "print(str_1[10])"
   ]
  },
  {
   "cell_type": "markdown",
   "id": "69ee6781",
   "metadata": {},
   "source": [
    "**Срезы для строк в Python** — это механизм, с помощью которого извлекается подстрока по указанным параметрам. \n",
    "\n",
    "Срез задаётся следующим образом `string[начальный индекс:конечный индекс]`.\n",
    "\n",
    "У срезов два обязательных параметра и один необязательный параметр — шаг извлечения. По умолчанию он равен единице, но мы можем его изменить:"
   ]
  },
  {
   "cell_type": "code",
   "execution_count": 6,
   "id": "7aaa7446",
   "metadata": {},
   "outputs": [
    {
     "name": "stdout",
     "output_type": "stream",
     "text": [
      "ytho\n",
      "yh\n",
      "Py\n",
      "thon3\n",
      "thon3\n"
     ]
    }
   ],
   "source": [
    "str_1 = 'Python3'\n",
    "print(str_1[1:5]) # берём символы с индексами 1-5 (не включительно) с шагом 1 (по умолчанию)\n",
    "print(str_1[1:5:2]) # берём символы с индексами 1-5 (не включительно) с шагом 2\n",
    "print(str_1[:2]) # берём все символы до 2-го (не включительно)\n",
    "print(str_1[2:]) # берём все символы начиная с символа с индексом 2 и до конца строки\n",
    "print(str_1[2:]) # берём все символы начиная с символа с индексом 2 и до конца строки"
   ]
  },
  {
   "cell_type": "markdown",
   "id": "416a433d",
   "metadata": {},
   "source": [
    "Шаг может быть отрицательным, в таком случае он берется с конца. При отрицателньом шаге элементы среза извлекаются в обратном порядке, поэтому границы среза тоже указываются в обратном порядке. Первой указывается правая граница среза, второй — левая: "
   ]
  },
  {
   "cell_type": "code",
   "execution_count": 33,
   "id": "dc3cbeb2",
   "metadata": {},
   "outputs": [
    {
     "name": "stdout",
     "output_type": "stream",
     "text": [
      "noht\n",
      "noht\n"
     ]
    }
   ],
   "source": [
    "str_1 = 'Python3'\n",
    "print(str_1[5:1:-1]) # берём символы с индексами 5-1 (не включительно) и в обратном порядке\n",
    "print(str_1[-2:1:-1]) # аналогично"
   ]
  },
  {
   "cell_type": "markdown",
   "id": "580bf424",
   "metadata": {},
   "source": [
    "Выбрать всю строку можно с помощью срезов:"
   ]
  },
  {
   "cell_type": "code",
   "execution_count": 8,
   "id": "c505580a",
   "metadata": {},
   "outputs": [
    {
     "name": "stdout",
     "output_type": "stream",
     "text": [
      "Python3\n",
      "Python3\n",
      "Pto3\n",
      "yhn\n",
      "3nohtyP\n"
     ]
    }
   ],
   "source": [
    "str_1 = 'Python3'\n",
    "print(str_1[::]) # вся строка\n",
    "print(str_1[:]) # вся строка\n",
    "print(str_1[::2]) # четные по порядку символы\n",
    "print(str_1[1::2]) # нечетные по порядку символы\n",
    "print(str_1[::-1]) # вся строка в обратном порядке"
   ]
  },
  {
   "cell_type": "markdown",
   "id": "b5de0973",
   "metadata": {},
   "source": [
    "Теперь перейдём к рассмотрению методов строк."
   ]
  },
  {
   "cell_type": "markdown",
   "id": "778e9390",
   "metadata": {},
   "source": [
    "**isalpha()** - возвращает True, если строка состоит только из алфавитных символов\n",
    "\n",
    "**islower()** - возвращает True, если строка состоит только из символов в нижнем регистре\n",
    "\n",
    "**isupper()** - возвращает True, если все символы строки в верхнем регистре\n",
    "\n",
    "**isdigit()** - возвращает True, если все символы строки - цифры\n",
    "\n",
    "**isnumeric()** - возвращает True, если строка представляет собой число\n",
    "\n",
    "**startswith(str)** - возвращает True, если строка начинается с подстроки str\n",
    "\n",
    "**endswith(str)** - возвращает True, если строка заканчивается на подстроку str\n",
    "\n",
    "**lower()** - переводит строку в нижний регистр\n",
    "\n",
    "**upper()** - переводит строку в вехний регистр\n",
    "\n",
    "**title()** - начальные символы всех слов в строке переводятся в верхний регистр\n",
    "\n",
    "**capitalize()** - переводит в верхний регистр первую букву только самого первого слова строки\n",
    "\n",
    "**lstrip()** - удаляет начальные пробелы из строки\n",
    "\n",
    "**rstrip()** - удаляет конечные пробелы из строки\n",
    "\n",
    "**strip()** - удаляет начальные и конечные пробелы из строки\n",
    "\n",
    "**find(str[, start [, end])** - возвращает индекс подстроки в строке. Если подстрока не найдена, возвращается число -1\n",
    "\n",
    "**replace(old, new[, num])** - заменяет в строке одну подстроку на другую\n",
    "\n",
    "**split([delimeter[, num]])** - разбивает строку на подстроки в зависимости от разделителя\n",
    "\n",
    "**join(strs)** - объединяет строки в одну строку, вставляя между ними определенный разделитель"
   ]
  },
  {
   "cell_type": "code",
   "execution_count": 9,
   "id": "c2750ed6",
   "metadata": {},
   "outputs": [
    {
     "name": "stdout",
     "output_type": "stream",
     "text": [
      "Введите число: 125\n",
      "125\n"
     ]
    }
   ],
   "source": [
    "string = input(\"Введите число: \")\n",
    "if string.isnumeric():\n",
    "    number = int(string)\n",
    "    print(number)"
   ]
  },
  {
   "cell_type": "code",
   "execution_count": 10,
   "id": "19d40a3a",
   "metadata": {},
   "outputs": [
    {
     "name": "stdout",
     "output_type": "stream",
     "text": [
      "hello   python!\n"
     ]
    }
   ],
   "source": [
    "string = \"   hello   python!  \"\n",
    "string = string.strip()\n",
    "print(string)"
   ]
  },
  {
   "cell_type": "markdown",
   "id": "767273f2",
   "metadata": {},
   "source": [
    "Метод **split()** разбивает строку на список подстрок в зависимости от разделителя. В качестве разделителя может выступать любой символ или последовательность символов. Данный метод имеет следующие формы:\n",
    "\n",
    "* split(): в качестве разделителя используется пробел\n",
    "\n",
    "* split(delimeter): в качестве разделителя используется delimeter\n",
    "\n",
    "* split(delimeter, num): параметр num указывает, сколько вхождений delimeter используется для разделения. Оставшаяся часть строки добавляется в список без разделения на подстроки"
   ]
  },
  {
   "cell_type": "code",
   "execution_count": 11,
   "id": "000ca02f",
   "metadata": {},
   "outputs": [
    {
     "name": "stdout",
     "output_type": "stream",
     "text": [
      "['Python', 'поддерживает', 'динамическую', 'типизацию,', 'то', 'есть', 'тип', 'переменной', 'определяется', 'только', 'во', 'время', 'исполнения.']\n",
      "динамическую\n",
      "['Python поддерживает динамическую типизацию', ' то есть тип переменной определяется только во время исполнения.']\n",
      " то есть тип переменной определяется только во время исполнения.\n",
      "['Python', 'поддерживает', 'динамическую', 'типизацию,', 'то', 'есть тип переменной определяется только во время исполнения.']\n",
      "есть тип переменной определяется только во время исполнения.\n"
     ]
    }
   ],
   "source": [
    "text = \"Python поддерживает динамическую типизацию, то есть тип переменной определяется только во время исполнения.\"\n",
    "# разделение по пробелам\n",
    "splitted_text = text.split()\n",
    "print(splitted_text)\n",
    "print(splitted_text[2])     # динамическую\n",
    " \n",
    "# разбиение по запятым\n",
    "splitted_text = text.split(\",\")\n",
    "print(splitted_text)\n",
    "print(splitted_text[1])     # то есть тип переменной определяется только во время исполнения.\n",
    " \n",
    "# разбиение по первым пяти пробелам\n",
    "splitted_text = text.split(\" \", 5)\n",
    "print(splitted_text)        \n",
    "print(splitted_text[5]) "
   ]
  },
  {
   "cell_type": "markdown",
   "id": "3e976342",
   "metadata": {},
   "source": [
    "Для обратной к разделению строки на подстроки есть метод, позволяющий объединить несколько элементов списка в одну строку через заданный разделитель."
   ]
  },
  {
   "cell_type": "code",
   "execution_count": 12,
   "id": "abdcbc09",
   "metadata": {},
   "outputs": [
    {
     "name": "stdout",
     "output_type": "stream",
     "text": [
      "Python C C++ matplotlib\n",
      "Python | C | C++ | matplotlib\n"
     ]
    }
   ],
   "source": [
    "words = [\"Python\", \"C\", \"C++\", \"matplotlib\"]\n",
    " \n",
    "# разделитель - пробел\n",
    "sentence = \" \".join(words)\n",
    "print(sentence)\n",
    " \n",
    "# разделитель - вертикальная черта\n",
    "sentence = \" | \".join(words)\n",
    "print(sentence)"
   ]
  },
  {
   "cell_type": "markdown",
   "id": "987b12a5",
   "metadata": {},
   "source": [
    "## Регулярные выражения и модуль re\n",
    "\n",
    "**Регулярное выражение** — это строка, задающая шаблон поиска подстрок в тексте. Одному шаблону может соответствовать много разных строчек. \n",
    "\n",
    "В состав регулярных выражений или кратко регулярка входят обычные символы и специальные командные последовательности.\n",
    "К примеру, \\d задаёт любую цифру, а \\d+ — задает любую последовательность из одной или более цифр. \n",
    "\n",
    "Любая строка (в которой нет символов .^$*+?{}[]\\|()) сама по себе является регулярным выражением. Так, выражению 'Abcd' будет соответствовать строка 'Abcd' и только она. В регулярных выражениях имеет значение регист, т. е. они являются регистрозависимыми. Это значит, что строка 'abcd' (с маленькой буквы) уже не будет соответствовать выражению выше. \n",
    "\n",
    "Cпецсимволы .^$*+?{}[]\\|() в регулярках являются управляющими конструкциями. Если эти символы нужно использовать просто как символы, то требуется их экранирование. Для этого нужно поставить перед ними знак слэша. \n",
    "\n",
    "Рассмотрим шаблоны, соответствующие одному символу:\n",
    "    \n",
    "**.** - один любой символ за исключением новой строки \\n.\n",
    "Пример: М.Т. -> МФТИ, МГТУ\n",
    "    \n",
    "**\\d** - любая цифра.\n",
    "Пример: F\\d\\d -> F54, FF60\n",
    "\n",
    "**\\D** - любой символ, кроме цифры.\n",
    "Пример: 926\\D123 -> 926)123, 1926-1234, a926b123 \n",
    "\n",
    "**\\s** - любой пробельный символ (пробел, табуляция, конец строки и т.п.).\n",
    "Пример: экз\\sамен -> экз амен, экз\n",
    "амен\n",
    "\n",
    "**\\S** - любой непробельный символ.\n",
    "Пример: \\S101-> !10145, ит101, b101\n",
    "\n",
    "**\\w** - любая буква (то, что может быть частью слова), а также цифры и _.\n",
    "Пример: \\w\\w\\w -> Год, f_3, qwert\n",
    "\n",
    "**\\W** - любая не-буква, не-цифра и не подчёркивание.\n",
    "Пример: abc\\W -> abc!, abc=\n",
    "\n",
    "**[..]** - один из символов в скобках, а также любой символ из диапазона a-b.\n",
    "Пример: [0-9][0-9A-Fa-f] -> 12, 1F, 4B\n",
    "\n",
    "**[^..]** - любой символ, кроме перечисленных.\n",
    "Пример: <[^>]> -> \t<1>, <a>, <>>\n",
    "    \n",
    "**\\b** - Начало или конец слова (слева пусто или не-буква, справа буква и наоборот).\n",
    "В отличие от предыдущих соответствует позиции, а не символу.\n",
    "Пример: \\bчёт -> зачёт, пересчёт, перезачёт\n",
    "    \n",
    "**\\B** - Не граница слова: либо и слева, и справа буквы, либо и слева, и справа НЕ буквы.\n",
    "Пример: \\Bвал -> перевал, вал, Перевалка\n",
    "    \n",
    "## Квантификаторы (указание количества повторений)\n",
    "    \n",
    "**{n}** - Ровно n повторений\n",
    "\n",
    "**{m,n}** - От m до n повторений включительно\n",
    "\n",
    "**{m,}** - Не менее m повторений\n",
    "\n",
    "**{,n}** - Не более n повторений\n",
    "\n",
    "**?** - Ноль или одно вхождение, синоним {0,1}\n",
    "\n",
    "\\* - Ноль или более, синоним {0,}\n",
    "\n",
    "**+** - Одно или более, синоним {1,}\n",
    "\n",
    "**{,n}** - Не более n повторений\n",
    "\n",
    "**Пример:**\n",
    "\n",
    "Допустим нужно проверить корректность введённого в input-поле e-mail. Это можно сделать с помощью регулярных выражений.\n",
    "\n",
    "r'^[a-zA-Z0-9_.+-]+@[a-zA-Z0-9-]+(?:\\.[a-zA-Z0-9-]+)+$'\n",
    "\n",
    "### Для чего нужны регулярные выражения?\n",
    "\n",
    "Регулярные выражения позволяют:\n",
    "    \n",
    "* определить нужный формат, например телефонного номера или email-адреса;\n",
    "\n",
    "* разбить строки на подстроки;\n",
    "\n",
    "* проводить поиск, замену и извлечение символов;\n",
    "\n",
    "* и т. д.\n",
    "    \n"
   ]
  },
  {
   "cell_type": "markdown",
   "id": "951d687a",
   "metadata": {},
   "source": [
    "### Модуль re\n",
    "\n",
    "Для работы с регулярками в питоне есть модуль re. Перед началом работы его нужно импортировать:\n"
   ]
  },
  {
   "cell_type": "code",
   "execution_count": 14,
   "id": "0d267897",
   "metadata": {},
   "outputs": [],
   "source": [
    "import re"
   ]
  },
  {
   "cell_type": "markdown",
   "id": "59ca35d5",
   "metadata": {},
   "source": [
    "Метод **re.match(pattern, string)** ищет по заданному шаблону в начале строки."
   ]
  },
  {
   "cell_type": "code",
   "execution_count": 15,
   "id": "e9fa23e1",
   "metadata": {},
   "outputs": [
    {
     "name": "stdout",
     "output_type": "stream",
     "text": [
      "<re.Match object; span=(0, 2), match='Py'>\n"
     ]
    }
   ],
   "source": [
    "result = re.match(r'Py', 'Python was created in the early 1990s by Guido van Rossum. Python is a high-level, general-purpose programming language.')\n",
    "print(result)"
   ]
  },
  {
   "cell_type": "markdown",
   "id": "a638b002",
   "metadata": {},
   "source": [
    "Искомая подстрока найдена, но чтобы вывести её содержимое, применим метод group(). Здесь используется «r» перед строкой шаблона, чтобы показать, что это «сырая» строка в Python."
   ]
  },
  {
   "cell_type": "code",
   "execution_count": 16,
   "id": "dd181a3b",
   "metadata": {},
   "outputs": [
    {
     "name": "stdout",
     "output_type": "stream",
     "text": [
      "Py\n"
     ]
    }
   ],
   "source": [
    "result = re.match(r'Py', 'Python was created in the early 1990s by Guido van Rossum. Python is a high-level, general-purpose programming language.')\n",
    "print(result.group(0))"
   ]
  },
  {
   "cell_type": "markdown",
   "id": "fb90e1e4",
   "metadata": {},
   "source": [
    "Есть методы start() и end() для того, чтобы узнать начальную и конечную позицию найденной строки."
   ]
  },
  {
   "cell_type": "code",
   "execution_count": 18,
   "id": "06f21e84",
   "metadata": {},
   "outputs": [
    {
     "name": "stdout",
     "output_type": "stream",
     "text": [
      "0\n",
      "2\n"
     ]
    }
   ],
   "source": [
    "result = re.match(r'Py', 'Python was created in the early 1990s by Guido van Rossum. Python is a high-level, general-purpose programming language.')\n",
    "print(result.start())\n",
    "print(result.end())"
   ]
  },
  {
   "cell_type": "markdown",
   "id": "1f575a47",
   "metadata": {},
   "source": [
    "**re.search(pattern, string)** похож на match(), но ищет не только в начале строки. Этот метод ищет по всей строке, но возвращает только первое найденное совпадение."
   ]
  },
  {
   "cell_type": "code",
   "execution_count": 19,
   "id": "96a8ed92",
   "metadata": {},
   "outputs": [
    {
     "name": "stdout",
     "output_type": "stream",
     "text": [
      "Py\n"
     ]
    }
   ],
   "source": [
    "result = re.search(r'Py', 'Python was created in the early 1990s by Guido van Rossum. Python is a high-level, general-purpose programming language.')\n",
    "print(result.group(0))"
   ]
  },
  {
   "cell_type": "markdown",
   "id": "9e7d9503",
   "metadata": {},
   "source": [
    "Для того, чтобы вернуть список всех найденных совпадений есть метод **re.findall(pattern, string)**."
   ]
  },
  {
   "cell_type": "code",
   "execution_count": 20,
   "id": "fd170bd4",
   "metadata": {},
   "outputs": [
    {
     "name": "stdout",
     "output_type": "stream",
     "text": [
      "['Py', 'Py']\n"
     ]
    }
   ],
   "source": [
    "result = re.findall(r'Py', 'Python was created in the early 1990s by Guido van Rossum. Python is a high-level, general-purpose programming language.')\n",
    "print(result)"
   ]
  },
  {
   "cell_type": "markdown",
   "id": "33ad18fc",
   "metadata": {},
   "source": [
    "**re.split(pattern, string, [maxsplit=0])** разделяет строку по заданному шаблону."
   ]
  },
  {
   "cell_type": "code",
   "execution_count": 21,
   "id": "ac5ab5bc",
   "metadata": {},
   "outputs": [
    {
     "name": "stdout",
     "output_type": "stream",
     "text": [
      "['', 'thon was created in the early 1990s by Guido van Rossum. ', 'thon is a high-level, general-purpose programming language.']\n"
     ]
    }
   ],
   "source": [
    "result = re.split(r'Py', 'Python was created in the early 1990s by Guido van Rossum. Python is a high-level, general-purpose programming language.')\n",
    "print(result)"
   ]
  },
  {
   "cell_type": "markdown",
   "id": "bbc42423",
   "metadata": {},
   "source": [
    "Метод **re.sub(pattern, repl, string)** ищет шаблон в строке и заменяет его на указанную подстроку. Если шаблон не найден, строка остается неизменной."
   ]
  },
  {
   "cell_type": "code",
   "execution_count": 22,
   "id": "4fa1f3d4",
   "metadata": {},
   "outputs": [
    {
     "name": "stdout",
     "output_type": "stream",
     "text": [
      "Cython was created in the early 1990s by Guido van Rossum. Cython is a high-level, general-purpose programming language.\n"
     ]
    }
   ],
   "source": [
    "result = re.sub(r'Py', 'Cy', 'Python was created in the early 1990s by Guido van Rossum. Python is a high-level, general-purpose programming language.')\n",
    "print(result)"
   ]
  },
  {
   "cell_type": "markdown",
   "id": "e8325ffe",
   "metadata": {},
   "source": [
    "Можно собрать регулярное выражение в отдельный объект, который может быть использован для поиска. Для этого есть метод **re.compile(pattern, repl, string)**."
   ]
  },
  {
   "cell_type": "code",
   "execution_count": 23,
   "id": "94b2e2f5",
   "metadata": {},
   "outputs": [
    {
     "name": "stdout",
     "output_type": "stream",
     "text": [
      "[' 12']\n",
      "[' 12', ' 12']\n"
     ]
    }
   ],
   "source": [
    "pattern = re.compile(r'.12')\n",
    "result1 = pattern.findall('В 12 часов началось собрание.')\n",
    "print(result1)\n",
    "result2 = pattern.findall('В 12 часов началось собрание, а в 12:30 завершилось.')\n",
    "print(result2)"
   ]
  },
  {
   "cell_type": "markdown",
   "id": "529eba58",
   "metadata": {},
   "source": [
    "Пример: \n",
    "    \n",
    "Вернуть первое слово из строки."
   ]
  },
  {
   "cell_type": "code",
   "execution_count": 24,
   "id": "255b97f8",
   "metadata": {},
   "outputs": [
    {
     "name": "stdout",
     "output_type": "stream",
     "text": [
      "['Python']\n"
     ]
    }
   ],
   "source": [
    "result = re.findall(r'^\\w+', 'Python is a high-level, general-purpose programming language.')\n",
    "print(result)"
   ]
  },
  {
   "cell_type": "markdown",
   "id": "37f4fcf4",
   "metadata": {},
   "source": [
    "Пример: \n",
    "    \n",
    "Вернуть первые два символа каждого слова.\n",
    "\n",
    "Вариант 1: используя \\w, вытащить два последовательных символа, кроме пробельных, из каждого слова:"
   ]
  },
  {
   "cell_type": "code",
   "execution_count": 26,
   "id": "02880f31",
   "metadata": {},
   "outputs": [
    {
     "name": "stdout",
     "output_type": "stream",
     "text": [
      "['Py', 'th', 'on', 'is', 'hi', 'gh', 'le', 've', 'ge', 'ne', 'ra', 'pu', 'rp', 'os', 'pr', 'og', 'ra', 'mm', 'in', 'la', 'ng', 'ua', 'ge']\n"
     ]
    }
   ],
   "source": [
    "result = re.findall(r'\\w\\w', 'Python is a high-level, general-purpose programming language.')\n",
    "print(result)"
   ]
  },
  {
   "cell_type": "markdown",
   "id": "42423cce",
   "metadata": {},
   "source": [
    "Вариант 2: вытащить два последовательных символа, используя символ границы слова (\\b):"
   ]
  },
  {
   "cell_type": "code",
   "execution_count": 28,
   "id": "4fe3e8b8",
   "metadata": {},
   "outputs": [
    {
     "name": "stdout",
     "output_type": "stream",
     "text": [
      "['Py', 'is', 'a ', 'hi', 'le', 'ge', 'pu', 'pr', 'la']\n"
     ]
    }
   ],
   "source": [
    "result = re.findall(r'\\b\\w.', 'Python is a high-level, general-purpose programming language.')\n",
    "print(result)"
   ]
  },
  {
   "cell_type": "markdown",
   "id": "b573e5ef",
   "metadata": {},
   "source": [
    "Пример: \n",
    "    \n",
    "Вернуть домены из списка email-адресов."
   ]
  },
  {
   "cell_type": "code",
   "execution_count": 29,
   "id": "3456c524",
   "metadata": {},
   "outputs": [
    {
     "name": "stdout",
     "output_type": "stream",
     "text": [
      "['@gmail', '@test', '@gmail', '@rest']\n"
     ]
    }
   ],
   "source": [
    "result = re.findall(r'@\\w+', 'abc.test@gmail.com, xyz@test.in, test1@gmail.com, first.1@rest.biz')\n",
    "print(result)"
   ]
  },
  {
   "cell_type": "markdown",
   "id": "540a3fe3",
   "metadata": {},
   "source": [
    "Как видно «.com», «.in» и т. д. не попали в результат. Исправим это."
   ]
  },
  {
   "cell_type": "code",
   "execution_count": 30,
   "id": "a979d1a3",
   "metadata": {},
   "outputs": [
    {
     "name": "stdout",
     "output_type": "stream",
     "text": [
      "['@gmail.com', '@test.in', '@gmail.com', '@rest.biz']\n"
     ]
    }
   ],
   "source": [
    "result = re.findall(r'@\\w+.\\w+', 'abc.test@gmail.com, xyz@test.in, test1@gmail.com, first.1@rest.biz')\n",
    "print(result)"
   ]
  },
  {
   "cell_type": "markdown",
   "id": "f9c4cf13",
   "metadata": {},
   "source": [
    "Другой вариант решения:"
   ]
  },
  {
   "cell_type": "code",
   "execution_count": 31,
   "id": "3cc79c18",
   "metadata": {},
   "outputs": [
    {
     "name": "stdout",
     "output_type": "stream",
     "text": [
      "['com', 'in', 'com', 'biz']\n"
     ]
    }
   ],
   "source": [
    "result = re.findall(r'@\\w+.(\\w+)', 'abc.test@gmail.com, xyz@test.in, test1@gmail.com, first.1@rest.biz')\n",
    "print(result)"
   ]
  },
  {
   "cell_type": "markdown",
   "id": "ff04a2f6",
   "metadata": {},
   "source": [
    "## Применение регулярных выражений в машинном обучении\n",
    "\n",
    "На этапе предобработки данных часто используются регулярные выражения для обработки текстовых признаков. Например, для категоризации целей выдачи кредита и т. д. Далее выделенные категории используются как категориальные признаки при обучении моделей.\n",
    "\n",
    "Другой пример использования регулярных выражений это классификация названий товаров в каталогах.  "
   ]
  },
  {
   "cell_type": "markdown",
   "id": "f09bb43a",
   "metadata": {},
   "source": [
    "# Задания"
   ]
  },
  {
   "cell_type": "markdown",
   "id": "0045040c",
   "metadata": {},
   "source": [
    "1. С помощью функции `input` считайте с клавиатуры строку и проверьте является ли она палиндромом. При этом регистр не учитывается.\n",
    "\n",
    "Палиндромом называется строка одинаково читающаяся в обоих направлениях.\n",
    "\n",
    "Если строка является палиндромом, то выведите \"YES\", а если нет, то \"NO\"."
   ]
  },
  {
   "cell_type": "code",
   "execution_count": null,
   "id": "4a45c715",
   "metadata": {},
   "outputs": [],
   "source": []
  },
  {
   "cell_type": "markdown",
   "id": "a0ec16b0",
   "metadata": {},
   "source": [
    "2. Строка текста, которую можно превратить в палиндром после удаления одной буквы, называется «почти палиндромом». Напишите программу, которая принимает на вход строку, состоящую из букв, цифр и специальных символов, и определяет, можно ли превратить строку в палиндром, удалив одну из букв. В строке гарантированно есть хотя бы две буквы."
   ]
  },
  {
   "cell_type": "code",
   "execution_count": null,
   "id": "29992b67",
   "metadata": {},
   "outputs": [],
   "source": []
  },
  {
   "cell_type": "markdown",
   "id": "02d64964",
   "metadata": {},
   "source": [
    "3. Считать через `input` строку, состоящую из нескольких слов. Извлечь слова, начинающиеся на гласную."
   ]
  },
  {
   "cell_type": "code",
   "execution_count": null,
   "id": "84f3c80d",
   "metadata": {},
   "outputs": [],
   "source": []
  },
  {
   "cell_type": "markdown",
   "id": "6ef5f841",
   "metadata": {},
   "source": [
    "4. Из введённой с клавиатуры строки \"удалите\" все знаки препинания и после этого оставьте только символы с чётными индексами."
   ]
  },
  {
   "cell_type": "code",
   "execution_count": null,
   "id": "124e6139",
   "metadata": {},
   "outputs": [],
   "source": []
  },
  {
   "cell_type": "markdown",
   "id": "d5307341",
   "metadata": {},
   "source": [
    "5. Проверить формат телефонного номера. Номер должен быть длиной 10 знаков и начинаться с 8 или 9. Есть список телефонных номеров, которые вводятся с клавиатуры и нужно проверить их корректность."
   ]
  },
  {
   "cell_type": "code",
   "execution_count": null,
   "id": "a52e5aca",
   "metadata": {},
   "outputs": [],
   "source": []
  },
  {
   "cell_type": "markdown",
   "id": "afbf26c8",
   "metadata": {},
   "source": [
    "6. Нужно извлечь информацию из html-файла, заключенную между <td> и </td>, кроме первого столбца с номером. Также будем считать, что html-код содержится в строке.\n",
    "\n",
    "Пример содержимого html-файла:\n",
    "    \n",
    "1NoahEmma2LiamOlivia3MasonSophia4JacobIsabella5WilliamAva6EthanMia7MichaelEmily"
   ]
  },
  {
   "cell_type": "code",
   "execution_count": null,
   "id": "ef7855ca",
   "metadata": {},
   "outputs": [],
   "source": []
  },
  {
   "cell_type": "markdown",
   "id": "bf13fb1a",
   "metadata": {},
   "source": [
    "7. В России применяются регистрационные знаки нескольких видов.\n",
    "Общего в них то, что они состоят из цифр и букв. Причём используются только 12 букв кириллицы, имеющие графические аналоги в латинском алфавите — А, В, Е, К, М, Н, О, Р, С, Т, У и Х.\n",
    "\n",
    "\n",
    "У частных легковых автомобилях номера — это буква, три цифры, две буквы, затем две или три цифры с кодом региона. У такси — две буквы, три цифры, затем две или три цифры с кодом региона. Есть также и другие виды, но в этой задаче они не понадобятся.\n",
    "\n",
    "\n",
    "Вам потребуется определить, является ли последовательность букв корректным номером указанных двух типов, и если является, то каким.\n",
    "\n",
    "\n",
    "На вход даются строки, которые претендуют на то, чтобы быть номером. Определите тип номера. Буквы в номерах — заглавные русские. Маленькие и английские для простоты можно игнорировать.\n",
    "\n",
    "Примеры:\n",
    "\n",
    "С227НА777 -> Private \n",
    "\n",
    "КУ22777 -> Taxi \n",
    "\n",
    "М227К19У9 -> Fail  \n",
    "\n",
    "Т22В7477 -> Fail"
   ]
  },
  {
   "cell_type": "code",
   "execution_count": null,
   "id": "04aa53c1",
   "metadata": {},
   "outputs": [],
   "source": []
  },
  {
   "cell_type": "markdown",
   "id": "7efa77e7",
   "metadata": {},
   "source": [
    "8. В одной организации потребовалось запутать финансовую документацию. Но важно, чтобы это было обратимо.\n",
    "В организации придумали вариант заменить каждое целое число (последовательность цифр) на его куб. Напишите код для предложенного алгоритма.\n",
    "\n",
    "Пример:\n",
    "\n",
    "Ввод:\n",
    "\n",
    "Было закуплено 12 единиц техники \n",
    "по 410.37 рублей.\n",
    "\n",
    "Вывод:\n",
    "\n",
    "Было закуплено 1728 единиц техники \n",
    "по 68921000.50653 рублей."
   ]
  },
  {
   "cell_type": "code",
   "execution_count": null,
   "id": "2d7f3c48",
   "metadata": {},
   "outputs": [],
   "source": []
  }
 ],
 "metadata": {
  "kernelspec": {
   "display_name": "Python 3 (ipykernel)",
   "language": "python",
   "name": "python3"
  },
  "language_info": {
   "codemirror_mode": {
    "name": "ipython",
    "version": 3
   },
   "file_extension": ".py",
   "mimetype": "text/x-python",
   "name": "python",
   "nbconvert_exporter": "python",
   "pygments_lexer": "ipython3",
   "version": "3.12.4"
  }
 },
 "nbformat": 4,
 "nbformat_minor": 5
}
